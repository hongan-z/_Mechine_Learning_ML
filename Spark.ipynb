{
  "nbformat": 4,
  "nbformat_minor": 0,
  "metadata": {
    "colab": {
      "name": "Spark.ipynb",
      "provenance": [],
      "collapsed_sections": [],
      "authorship_tag": "ABX9TyOqS//rL3lPQ9h14mroQ859",
      "include_colab_link": true
    },
    "kernelspec": {
      "name": "python3",
      "display_name": "Python 3"
    },
    "language_info": {
      "name": "python"
    }
  },
  "cells": [
    {
      "cell_type": "markdown",
      "metadata": {
        "id": "view-in-github",
        "colab_type": "text"
      },
      "source": [
        "<a href=\"https://colab.research.google.com/github/hongan-z/_Mechine_Learning_ML/blob/main/Spark.ipynb\" target=\"_parent\"><img src=\"https://colab.research.google.com/assets/colab-badge.svg\" alt=\"Open In Colab\"/></a>"
      ]
    },
    {
      "cell_type": "code",
      "metadata": {
        "colab": {
          "base_uri": "https://localhost:8080/"
        },
        "id": "oTwJXAdOPYs_",
        "outputId": "ddc93e46-5d82-4433-b49f-c45af1803553"
      },
      "source": [
        "!pip install pyspark"
      ],
      "execution_count": 3,
      "outputs": [
        {
          "output_type": "stream",
          "name": "stdout",
          "text": [
            "Collecting pyspark\n",
            "  Downloading pyspark-3.2.0.tar.gz (281.3 MB)\n",
            "\u001b[K     |████████████████████████████████| 281.3 MB 40 kB/s \n",
            "\u001b[?25hCollecting py4j==0.10.9.2\n",
            "  Downloading py4j-0.10.9.2-py2.py3-none-any.whl (198 kB)\n",
            "\u001b[K     |████████████████████████████████| 198 kB 49.9 MB/s \n",
            "\u001b[?25hBuilding wheels for collected packages: pyspark\n",
            "  Building wheel for pyspark (setup.py) ... \u001b[?25l\u001b[?25hdone\n",
            "  Created wheel for pyspark: filename=pyspark-3.2.0-py2.py3-none-any.whl size=281805912 sha256=bb77782725df28a9efdce08f511c8bad2c5c00931422a7b4adcacb9c2a78cfdc\n",
            "  Stored in directory: /root/.cache/pip/wheels/0b/de/d2/9be5d59d7331c6c2a7c1b6d1a4f463ce107332b1ecd4e80718\n",
            "Successfully built pyspark\n",
            "Installing collected packages: py4j, pyspark\n",
            "Successfully installed py4j-0.10.9.2 pyspark-3.2.0\n"
          ]
        }
      ]
    },
    {
      "cell_type": "code",
      "metadata": {
        "id": "SKCeF9zVPzDM"
      },
      "source": [
        ""
      ],
      "execution_count": 3,
      "outputs": []
    },
    {
      "cell_type": "code",
      "metadata": {
        "id": "qoNCeLuGVEzE"
      },
      "source": [
        "import pyspark\n",
        "import pandas as pd\n",
        "import json"
      ],
      "execution_count": 7,
      "outputs": []
    },
    {
      "cell_type": "code",
      "metadata": {
        "id": "5uNLOTnkVPkG"
      },
      "source": [
        "with open(\"score.json\") as f:\n",
        "    score = json.load(f)"
      ],
      "execution_count": 9,
      "outputs": []
    },
    {
      "cell_type": "code",
      "metadata": {
        "id": "HSqQhW2LVViO"
      },
      "source": [
        "df = pd.DataFrame(score)"
      ],
      "execution_count": 10,
      "outputs": []
    },
    {
      "cell_type": "code",
      "metadata": {
        "colab": {
          "base_uri": "https://localhost:8080/",
          "height": 513
        },
        "id": "RrISXRsLcgbd",
        "outputId": "91bde266-fa8e-4ebf-ea20-aa6db5793aa2"
      },
      "source": [
        "Pandasdf= df.transpose()\n",
        "Pandasdf.head()"
      ],
      "execution_count": 15,
      "outputs": [
        {
          "output_type": "execute_result",
          "data": {
            "text/html": [
              "<div>\n",
              "<style scoped>\n",
              "    .dataframe tbody tr th:only-of-type {\n",
              "        vertical-align: middle;\n",
              "    }\n",
              "\n",
              "    .dataframe tbody tr th {\n",
              "        vertical-align: top;\n",
              "    }\n",
              "\n",
              "    .dataframe thead th {\n",
              "        text-align: right;\n",
              "    }\n",
              "</style>\n",
              "<table border=\"1\" class=\"dataframe\">\n",
              "  <thead>\n",
              "    <tr style=\"text-align: right;\">\n",
              "      <th></th>\n",
              "      <th>info.title</th>\n",
              "      <th>info.summary</th>\n",
              "      <th>info.date</th>\n",
              "      <th>meta_score.score</th>\n",
              "      <th>meta_score.distribution.positive</th>\n",
              "      <th>meta_score.distribution.mixed</th>\n",
              "      <th>meta_score.distribution.negative</th>\n",
              "      <th>user_score.score</th>\n",
              "      <th>user_score.distribution.positive</th>\n",
              "      <th>user_score.distribution.mixed</th>\n",
              "      <th>user_score.distribution.negative</th>\n",
              "    </tr>\n",
              "  </thead>\n",
              "  <tbody>\n",
              "    <tr>\n",
              "      <th>0</th>\n",
              "      <td>Three Colors: Red</td>\n",
              "      <td>Krzysztof Kieslowski closes his Three Colors t...</td>\n",
              "      <td>November 23, 1994</td>\n",
              "      <td>100</td>\n",
              "      <td>9</td>\n",
              "      <td>0</td>\n",
              "      <td>0</td>\n",
              "      <td>8.6</td>\n",
              "      <td>152</td>\n",
              "      <td>4</td>\n",
              "      <td>9</td>\n",
              "    </tr>\n",
              "    <tr>\n",
              "      <th>1</th>\n",
              "      <td>Boyhood</td>\n",
              "      <td>Filmed over 12 years with the same cast, Richa...</td>\n",
              "      <td>July 11, 2014</td>\n",
              "      <td>100</td>\n",
              "      <td>50</td>\n",
              "      <td>0</td>\n",
              "      <td>0</td>\n",
              "      <td>7.5</td>\n",
              "      <td>1,869</td>\n",
              "      <td>274</td>\n",
              "      <td>354</td>\n",
              "    </tr>\n",
              "    <tr>\n",
              "      <th>2</th>\n",
              "      <td>Casablanca</td>\n",
              "      <td>A Casablanca, Morocco casino owner in 1941 she...</td>\n",
              "      <td>January 23, 1943</td>\n",
              "      <td>100</td>\n",
              "      <td>18</td>\n",
              "      <td>0</td>\n",
              "      <td>0</td>\n",
              "      <td>8.9</td>\n",
              "      <td>360</td>\n",
              "      <td>11</td>\n",
              "      <td>10</td>\n",
              "    </tr>\n",
              "    <tr>\n",
              "      <th>3</th>\n",
              "      <td>Rear Window</td>\n",
              "      <td>A wheelchair-bound photographer spies on his n...</td>\n",
              "      <td>September 1, 1954</td>\n",
              "      <td>100</td>\n",
              "      <td>18</td>\n",
              "      <td>0</td>\n",
              "      <td>0</td>\n",
              "      <td>8.8</td>\n",
              "      <td>365</td>\n",
              "      <td>15</td>\n",
              "      <td>10</td>\n",
              "    </tr>\n",
              "    <tr>\n",
              "      <th>4</th>\n",
              "      <td>The Godfather</td>\n",
              "      <td>Francis Ford Coppola's epic features Marlon Br...</td>\n",
              "      <td>March 11, 1972</td>\n",
              "      <td>100</td>\n",
              "      <td>15</td>\n",
              "      <td>0</td>\n",
              "      <td>0</td>\n",
              "      <td>9.2</td>\n",
              "      <td>3,293</td>\n",
              "      <td>93</td>\n",
              "      <td>115</td>\n",
              "    </tr>\n",
              "  </tbody>\n",
              "</table>\n",
              "</div>"
            ],
            "text/plain": [
              "          info.title  ... user_score.distribution.negative\n",
              "0  Three Colors: Red  ...                                9\n",
              "1            Boyhood  ...                              354\n",
              "2         Casablanca  ...                               10\n",
              "3        Rear Window  ...                               10\n",
              "4      The Godfather  ...                              115\n",
              "\n",
              "[5 rows x 11 columns]"
            ]
          },
          "metadata": {},
          "execution_count": 15
        }
      ]
    },
    {
      "cell_type": "code",
      "metadata": {
        "id": "5I99jXoVf_lX"
      },
      "source": [
        "data = Pandasdf.to_json('./score.json',orient='index')"
      ],
      "execution_count": 16,
      "outputs": []
    },
    {
      "cell_type": "code",
      "metadata": {
        "colab": {
          "base_uri": "https://localhost:8080/"
        },
        "id": "5HGjAcFIg-2T",
        "outputId": "667253bb-ca91-44ce-b8d7-446c5645b894"
      },
      "source": [
        ""
      ],
      "execution_count": 36,
      "outputs": [
        {
          "output_type": "stream",
          "name": "stdout",
          "text": [
            "None\n"
          ]
        }
      ]
    },
    {
      "cell_type": "code",
      "metadata": {
        "id": "p9sfHvjTVhGy"
      },
      "source": [
        "from pyspark.sql import SparkSession\n",
        "spark=SparkSession.builder.appName('Sc').getOrCreate()"
      ],
      "execution_count": 17,
      "outputs": []
    },
    {
      "cell_type": "code",
      "metadata": {
        "colab": {
          "base_uri": "https://localhost:8080/",
          "height": 219
        },
        "id": "ZiU_zKjOVuZ_",
        "outputId": "948acf4c-c446-41b3-ee55-ac7d237775e2"
      },
      "source": [
        "spark\n"
      ],
      "execution_count": 18,
      "outputs": [
        {
          "output_type": "execute_result",
          "data": {
            "text/html": [
              "\n",
              "            <div>\n",
              "                <p><b>SparkSession - in-memory</b></p>\n",
              "                \n",
              "        <div>\n",
              "            <p><b>SparkContext</b></p>\n",
              "\n",
              "            <p><a href=\"http://a9ed227bc3ed:4040\">Spark UI</a></p>\n",
              "\n",
              "            <dl>\n",
              "              <dt>Version</dt>\n",
              "                <dd><code>v3.2.0</code></dd>\n",
              "              <dt>Master</dt>\n",
              "                <dd><code>local[*]</code></dd>\n",
              "              <dt>AppName</dt>\n",
              "                <dd><code>Sc</code></dd>\n",
              "            </dl>\n",
              "        </div>\n",
              "        \n",
              "            </div>\n",
              "        "
            ],
            "text/plain": [
              "<pyspark.sql.session.SparkSession at 0x7f68f5246c10>"
            ]
          },
          "metadata": {},
          "execution_count": 18
        }
      ]
    },
    {
      "cell_type": "code",
      "metadata": {
        "colab": {
          "base_uri": "https://localhost:8080/"
        },
        "id": "JDJCg9YXas58",
        "outputId": "3e9db70b-e5b1-455d-b133-a640cace53ce"
      },
      "source": [
        "type(Pandasdf)"
      ],
      "execution_count": 19,
      "outputs": [
        {
          "output_type": "execute_result",
          "data": {
            "text/plain": [
              "pandas.core.frame.DataFrame"
            ]
          },
          "metadata": {},
          "execution_count": 19
        }
      ]
    },
    {
      "cell_type": "code",
      "metadata": {
        "id": "VEEs27s4eEkA"
      },
      "source": [
        "df2=spark.read.format(\"score.json\")"
      ],
      "execution_count": 20,
      "outputs": []
    },
    {
      "cell_type": "code",
      "metadata": {
        "colab": {
          "base_uri": "https://localhost:8080/"
        },
        "id": "29rm0JzuhhLh",
        "outputId": "f7313f45-1bdb-4326-f62f-918ef1482194"
      },
      "source": [
        "type(df2)"
      ],
      "execution_count": 21,
      "outputs": [
        {
          "output_type": "execute_result",
          "data": {
            "text/plain": [
              "pyspark.sql.readwriter.DataFrameReader"
            ]
          },
          "metadata": {},
          "execution_count": 21
        }
      ]
    },
    {
      "cell_type": "code",
      "metadata": {
        "id": "EQ_xpf-Aic60"
      },
      "source": [
        "from pyspark.sql import SparkSession"
      ],
      "execution_count": 22,
      "outputs": []
    },
    {
      "cell_type": "code",
      "metadata": {
        "colab": {
          "base_uri": "https://localhost:8080/"
        },
        "id": "_D5ecgTSj76m",
        "outputId": "da0c18f1-bde1-4392-90b0-21010608f02f"
      },
      "source": [
        "sparkDF=spark.createDataFrame(Pandasdf) \n",
        "sparkDF.printSchema()\n",
        "sparkDF.show()"
      ],
      "execution_count": 24,
      "outputs": [
        {
          "output_type": "stream",
          "name": "stdout",
          "text": [
            "root\n",
            " |-- info.title: string (nullable = true)\n",
            " |-- info.summary: string (nullable = true)\n",
            " |-- info.date: string (nullable = true)\n",
            " |-- meta_score.score: string (nullable = true)\n",
            " |-- meta_score.distribution.positive: string (nullable = true)\n",
            " |-- meta_score.distribution.mixed: string (nullable = true)\n",
            " |-- meta_score.distribution.negative: string (nullable = true)\n",
            " |-- user_score.score: string (nullable = true)\n",
            " |-- user_score.distribution.positive: string (nullable = true)\n",
            " |-- user_score.distribution.mixed: string (nullable = true)\n",
            " |-- user_score.distribution.negative: string (nullable = true)\n",
            "\n",
            "+--------------------+--------------------+-----------------+----------------+--------------------------------+-----------------------------+--------------------------------+----------------+--------------------------------+-----------------------------+--------------------------------+\n",
            "|          info.title|        info.summary|        info.date|meta_score.score|meta_score.distribution.positive|meta_score.distribution.mixed|meta_score.distribution.negative|user_score.score|user_score.distribution.positive|user_score.distribution.mixed|user_score.distribution.negative|\n",
            "+--------------------+--------------------+-----------------+----------------+--------------------------------+-----------------------------+--------------------------------+----------------+--------------------------------+-----------------------------+--------------------------------+\n",
            "|   Three Colors: Red|Krzysztof Kieslow...|November 23, 1994|             100|                               9|                            0|                               0|             8.6|                             152|                            4|                               9|\n",
            "|             Boyhood|Filmed over 12 ye...|    July 11, 2014|             100|                              50|                            0|                               0|             7.5|                           1,869|                          274|                             354|\n",
            "|          Casablanca|A Casablanca, Mor...| January 23, 1943|             100|                              18|                            0|                               0|             8.9|                             360|                           11|                              10|\n",
            "|         Rear Window|A wheelchair-boun...|September 1, 1954|             100|                              18|                            0|                               0|             8.8|                             365|                           15|                              10|\n",
            "|       The Godfather|Francis Ford Copp...|   March 11, 1972|             100|                              15|                            0|                               0|             9.2|                           3,293|                           93|                             115|\n",
            "|         Intolerance|The story of a po...|September 5, 1916|              99|                              15|                            0|                               0|             7.4|                              13|                            1|                               4|\n",
            "|           Moonlight|Moonlight is the ...| October 21, 2016|              99|                              53|                            0|                               0|             7.1|                           1,244|                          175|                             317|\n",
            "|         City Lights|The Tramp (Charli...|    March 7, 1931|              99|                              15|                            0|                               0|             8.9|                             102|                            1|                               3|\n",
            "| Singin' in the Rain|A silent film pro...|   April 11, 1952|              99|                              17|                            0|                               0|             8.7|                             169|                           13|                               5|\n",
            "|           Notorious|A woman is asked ...|September 6, 1946|             100|                              16|                            0|                               0|             8.0|                              64|                            7|                               3|\n",
            "|    Some Like It Hot|When two male mus...|   March 29, 1959|              98|                              19|                            0|                               0|             8.4|                             140|                           11|                               4|\n",
            "|     Pan's Labyrinth|Following a blood...|December 29, 2006|              98|                              37|                            0|                               0|             8.7|                           2,414|                          188|                             150|\n",
            "|The Treasure of t...|Fred Dobbs and Bo...| January 24, 1948|              98|                               9|                            1|                               0|             8.5|                              93|                            6|                               2|\n",
            "|        Citizen Kane|Following the dea...|September 4, 1941|             100|                              19|                            0|                               0|             8.4|                             600|                           52|                              36|\n",
            "|           Lady Bird|Christine \"Lady B...| November 3, 2017|              94|                              49|                            1|                               0|             7.6|                             786|                          117|                              90|\n",
            "|        We Were Here|We Were Here docu...|September 9, 2011|              94|                              11|                            0|                               0|             6.9|                              27|                            6|                               9|\n",
            "|      The Gunfighter|Notorious gunfigh...|    June 23, 1950|              94|                               8|                            0|                               0|             7.4|                               8|                            1|                               0|\n",
            "|      Apocalypse Now|During the Vietna...|  August 15, 1979|              94|                              14|                            1|                               0|             8.8|                             619|                           35|                              21|\n",
            "|       The Apartment|A man tries to ri...|    June 15, 1960|              94|                              20|                            1|                               0|             8.8|                              40|                            0|                               1|\n",
            "|Meet Me in St. Louis|Young love and ch...|  January 1, 1945|              94|                              17|                            1|                               0|             6.0|                               2|                            2|                               1|\n",
            "+--------------------+--------------------+-----------------+----------------+--------------------------------+-----------------------------+--------------------------------+----------------+--------------------------------+-----------------------------+--------------------------------+\n",
            "only showing top 20 rows\n",
            "\n"
          ]
        }
      ]
    },
    {
      "cell_type": "code",
      "metadata": {
        "colab": {
          "base_uri": "https://localhost:8080/"
        },
        "id": "VXLVZLmQkfAw",
        "outputId": "7b2bb4d9-477c-4ce1-f3b1-92e06d8daa72"
      },
      "source": [
        "type(Pandasdf)"
      ],
      "execution_count": 26,
      "outputs": [
        {
          "output_type": "execute_result",
          "data": {
            "text/plain": [
              "pandas.core.frame.DataFrame"
            ]
          },
          "metadata": {},
          "execution_count": 26
        }
      ]
    },
    {
      "cell_type": "code",
      "metadata": {
        "colab": {
          "base_uri": "https://localhost:8080/"
        },
        "id": "oIXKEhWKkpjT",
        "outputId": "bd818df9-a77d-42b5-f2f2-ffa84bedc523"
      },
      "source": [
        "type(sparkDF)"
      ],
      "execution_count": 27,
      "outputs": [
        {
          "output_type": "execute_result",
          "data": {
            "text/plain": [
              "pyspark.sql.dataframe.DataFrame"
            ]
          },
          "metadata": {},
          "execution_count": 27
        }
      ]
    },
    {
      "cell_type": "code",
      "metadata": {
        "colab": {
          "base_uri": "https://localhost:8080/"
        },
        "id": "NExULrzBJV7F",
        "outputId": "ef8c5e0d-2543-4f36-c339-c160138c48fd"
      },
      "source": [
        "sparkDF.printSchema()"
      ],
      "execution_count": 29,
      "outputs": [
        {
          "output_type": "stream",
          "name": "stdout",
          "text": [
            "root\n",
            " |-- info.title: string (nullable = true)\n",
            " |-- info.summary: string (nullable = true)\n",
            " |-- info.date: string (nullable = true)\n",
            " |-- meta_score.score: string (nullable = true)\n",
            " |-- meta_score.distribution.positive: string (nullable = true)\n",
            " |-- meta_score.distribution.mixed: string (nullable = true)\n",
            " |-- meta_score.distribution.negative: string (nullable = true)\n",
            " |-- user_score.score: string (nullable = true)\n",
            " |-- user_score.distribution.positive: string (nullable = true)\n",
            " |-- user_score.distribution.mixed: string (nullable = true)\n",
            " |-- user_score.distribution.negative: string (nullable = true)\n",
            "\n"
          ]
        }
      ]
    }
  ]
}