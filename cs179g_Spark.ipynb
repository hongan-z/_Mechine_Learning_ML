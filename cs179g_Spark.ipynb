{
  "nbformat": 4,
  "nbformat_minor": 0,
  "metadata": {
    "colab": {
      "name": "cs179g_Spark.ipynb",
      "provenance": [],
      "collapsed_sections": [],
      "authorship_tag": "ABX9TyOEadUc5kR4HkXgZ2GEGNqj",
      "include_colab_link": true
    },
    "kernelspec": {
      "name": "python3",
      "display_name": "Python 3"
    },
    "language_info": {
      "name": "python"
    }
  },
  "cells": [
    {
      "cell_type": "markdown",
      "metadata": {
        "id": "view-in-github",
        "colab_type": "text"
      },
      "source": [
        "<a href=\"https://colab.research.google.com/github/hongan-z/_Mechine_Learning_ML/blob/main/cs179g_Spark.ipynb\" target=\"_parent\"><img src=\"https://colab.research.google.com/assets/colab-badge.svg\" alt=\"Open In Colab\"/></a>"
      ]
    },
    {
      "cell_type": "code",
      "metadata": {
        "colab": {
          "base_uri": "https://localhost:8080/"
        },
        "id": "oTwJXAdOPYs_",
        "outputId": "4c439987-4eed-4fac-cf95-596477ea6012"
      },
      "source": [
        "!pip install pyspark"
      ],
      "execution_count": 1,
      "outputs": [
        {
          "output_type": "stream",
          "name": "stdout",
          "text": [
            "Collecting pyspark\n",
            "  Downloading pyspark-3.2.0.tar.gz (281.3 MB)\n",
            "\u001b[K     |████████████████████████████████| 281.3 MB 35 kB/s \n",
            "\u001b[?25hCollecting py4j==0.10.9.2\n",
            "  Downloading py4j-0.10.9.2-py2.py3-none-any.whl (198 kB)\n",
            "\u001b[K     |████████████████████████████████| 198 kB 64.9 MB/s \n",
            "\u001b[?25hBuilding wheels for collected packages: pyspark\n",
            "  Building wheel for pyspark (setup.py) ... \u001b[?25l\u001b[?25hdone\n",
            "  Created wheel for pyspark: filename=pyspark-3.2.0-py2.py3-none-any.whl size=281805912 sha256=d8bafac1fa1dc6a15125881b3cc8e7b1388539d0bb9915a2d107800b494e686a\n",
            "  Stored in directory: /root/.cache/pip/wheels/0b/de/d2/9be5d59d7331c6c2a7c1b6d1a4f463ce107332b1ecd4e80718\n",
            "Successfully built pyspark\n",
            "Installing collected packages: py4j, pyspark\n",
            "Successfully installed py4j-0.10.9.2 pyspark-3.2.0\n"
          ]
        }
      ]
    },
    {
      "cell_type": "code",
      "metadata": {
        "id": "qoNCeLuGVEzE"
      },
      "source": [
        "import pyspark\n",
        "import pandas as pd\n",
        "import json"
      ],
      "execution_count": 2,
      "outputs": []
    },
    {
      "cell_type": "code",
      "metadata": {
        "id": "5uNLOTnkVPkG"
      },
      "source": [
        "with open(\"Clean_New_Data.json\") as f:\n",
        "    data = json.load(f)"
      ],
      "execution_count": 3,
      "outputs": []
    },
    {
      "cell_type": "code",
      "metadata": {
        "id": "HSqQhW2LVViO",
        "colab": {
          "base_uri": "https://localhost:8080/",
          "height": 204
        },
        "outputId": "4b9461c8-e555-41dd-eb4e-901eb1d38847"
      },
      "source": [
        "df = pd.DataFrame(data)\n",
        "df.head()"
      ],
      "execution_count": 4,
      "outputs": [
        {
          "output_type": "execute_result",
          "data": {
            "text/html": [
              "<div>\n",
              "<style scoped>\n",
              "    .dataframe tbody tr th:only-of-type {\n",
              "        vertical-align: middle;\n",
              "    }\n",
              "\n",
              "    .dataframe tbody tr th {\n",
              "        vertical-align: top;\n",
              "    }\n",
              "\n",
              "    .dataframe thead th {\n",
              "        text-align: right;\n",
              "    }\n",
              "</style>\n",
              "<table border=\"1\" class=\"dataframe\">\n",
              "  <thead>\n",
              "    <tr style=\"text-align: right;\">\n",
              "      <th></th>\n",
              "      <th>title</th>\n",
              "      <th>genres</th>\n",
              "      <th>date</th>\n",
              "      <th>Metascore</th>\n",
              "      <th>Userscore</th>\n",
              "      <th>UserScorePositive</th>\n",
              "      <th>UserScoreMixed</th>\n",
              "      <th>UserScoreNegative</th>\n",
              "    </tr>\n",
              "  </thead>\n",
              "  <tbody>\n",
              "    <tr>\n",
              "      <th>0</th>\n",
              "      <td>Three Colors: Red</td>\n",
              "      <td>[Drama, Mystery, Romance]</td>\n",
              "      <td>November 23, 1994</td>\n",
              "      <td>100</td>\n",
              "      <td>8.6</td>\n",
              "      <td>152</td>\n",
              "      <td>4</td>\n",
              "      <td>9</td>\n",
              "    </tr>\n",
              "    <tr>\n",
              "      <th>1</th>\n",
              "      <td>Boyhood</td>\n",
              "      <td>[Drama]</td>\n",
              "      <td>July 11, 2014</td>\n",
              "      <td>100</td>\n",
              "      <td>7.5</td>\n",
              "      <td>1,869</td>\n",
              "      <td>274</td>\n",
              "      <td>354</td>\n",
              "    </tr>\n",
              "    <tr>\n",
              "      <th>2</th>\n",
              "      <td>Casablanca</td>\n",
              "      <td>[Drama, Romance, War]</td>\n",
              "      <td>January 23, 1943</td>\n",
              "      <td>100</td>\n",
              "      <td>8.9</td>\n",
              "      <td>360</td>\n",
              "      <td>11</td>\n",
              "      <td>10</td>\n",
              "    </tr>\n",
              "    <tr>\n",
              "      <th>3</th>\n",
              "      <td>Rear Window</td>\n",
              "      <td>[Mystery, Thriller]</td>\n",
              "      <td>September 1, 1954</td>\n",
              "      <td>100</td>\n",
              "      <td>8.8</td>\n",
              "      <td>365</td>\n",
              "      <td>15</td>\n",
              "      <td>10</td>\n",
              "    </tr>\n",
              "    <tr>\n",
              "      <th>4</th>\n",
              "      <td>The Godfather</td>\n",
              "      <td>[Drama, Thriller, Crime]</td>\n",
              "      <td>March 11, 1972</td>\n",
              "      <td>100</td>\n",
              "      <td>9.2</td>\n",
              "      <td>3,293</td>\n",
              "      <td>93</td>\n",
              "      <td>115</td>\n",
              "    </tr>\n",
              "  </tbody>\n",
              "</table>\n",
              "</div>"
            ],
            "text/plain": [
              "               title  ... UserScoreNegative\n",
              "0  Three Colors: Red  ...                 9\n",
              "1            Boyhood  ...               354\n",
              "2         Casablanca  ...                10\n",
              "3        Rear Window  ...                10\n",
              "4      The Godfather  ...               115\n",
              "\n",
              "[5 rows x 8 columns]"
            ]
          },
          "metadata": {},
          "execution_count": 4
        }
      ]
    },
    {
      "cell_type": "code",
      "metadata": {
        "id": "p9sfHvjTVhGy"
      },
      "source": [
        "from pyspark.sql import SparkSession\n",
        "spark=SparkSession.builder.appName('Sc').getOrCreate()"
      ],
      "execution_count": 5,
      "outputs": []
    },
    {
      "cell_type": "code",
      "metadata": {
        "colab": {
          "base_uri": "https://localhost:8080/",
          "height": 219
        },
        "id": "ZiU_zKjOVuZ_",
        "outputId": "cc6c7c81-0023-4d4d-a567-cb3d30a31353"
      },
      "source": [
        "spark\n"
      ],
      "execution_count": 6,
      "outputs": [
        {
          "output_type": "execute_result",
          "data": {
            "text/html": [
              "\n",
              "            <div>\n",
              "                <p><b>SparkSession - in-memory</b></p>\n",
              "                \n",
              "        <div>\n",
              "            <p><b>SparkContext</b></p>\n",
              "\n",
              "            <p><a href=\"http://99126ae7660f:4040\">Spark UI</a></p>\n",
              "\n",
              "            <dl>\n",
              "              <dt>Version</dt>\n",
              "                <dd><code>v3.2.0</code></dd>\n",
              "              <dt>Master</dt>\n",
              "                <dd><code>local[*]</code></dd>\n",
              "              <dt>AppName</dt>\n",
              "                <dd><code>Sc</code></dd>\n",
              "            </dl>\n",
              "        </div>\n",
              "        \n",
              "            </div>\n",
              "        "
            ],
            "text/plain": [
              "<pyspark.sql.session.SparkSession at 0x7f8ee1a3f1d0>"
            ]
          },
          "metadata": {},
          "execution_count": 6
        }
      ]
    },
    {
      "cell_type": "code",
      "metadata": {
        "colab": {
          "base_uri": "https://localhost:8080/"
        },
        "id": "_D5ecgTSj76m",
        "outputId": "e24c751b-f71f-474c-826d-457fc4babfd4"
      },
      "source": [
        "sparkdf =spark.createDataFrame(df) \n",
        "sparkdf.printSchema()\n",
        "sparkdf.show()"
      ],
      "execution_count": 7,
      "outputs": [
        {
          "output_type": "stream",
          "name": "stdout",
          "text": [
            "root\n",
            " |-- title: string (nullable = true)\n",
            " |-- genres: array (nullable = true)\n",
            " |    |-- element: string (containsNull = true)\n",
            " |-- date: string (nullable = true)\n",
            " |-- Metascore: string (nullable = true)\n",
            " |-- Userscore: string (nullable = true)\n",
            " |-- UserScorePositive: string (nullable = true)\n",
            " |-- UserScoreMixed: string (nullable = true)\n",
            " |-- UserScoreNegative: string (nullable = true)\n",
            "\n",
            "+--------------------+--------------------+-----------------+---------+---------+-----------------+--------------+-----------------+\n",
            "|               title|              genres|             date|Metascore|Userscore|UserScorePositive|UserScoreMixed|UserScoreNegative|\n",
            "+--------------------+--------------------+-----------------+---------+---------+-----------------+--------------+-----------------+\n",
            "|   Three Colors: Red|[Drama, Mystery, ...|November 23, 1994|      100|      8.6|              152|             4|                9|\n",
            "|             Boyhood|             [Drama]|    July 11, 2014|      100|      7.5|            1,869|           274|              354|\n",
            "|          Casablanca|[Drama, Romance, ...| January 23, 1943|      100|      8.9|              360|            11|               10|\n",
            "|         Rear Window| [Mystery, Thriller]|September 1, 1954|      100|      8.8|              365|            15|               10|\n",
            "|       The Godfather|[Drama, Thriller,...|   March 11, 1972|      100|      9.2|            3,293|            93|              115|\n",
            "|         Intolerance|    [Drama, History]|September 5, 1916|       99|      7.4|               13|             1|                4|\n",
            "|           Moonlight|             [Drama]| October 21, 2016|       99|      7.1|            1,244|           175|              317|\n",
            "|         City Lights|[Drama, Comedy, R...|    March 7, 1931|       99|      8.9|              102|             1|                3|\n",
            "| Singin' in the Rain|[Comedy, Romance,...|   April 11, 1952|       99|      8.7|              169|            13|                5|\n",
            "|           Notorious|[Drama, Thriller,...|September 6, 1946|      100|      8.0|               64|             7|                3|\n",
            "|    Some Like It Hot|   [Comedy, Romance]|   March 29, 1959|       98|      8.4|              140|            11|                4|\n",
            "|     Pan's Labyrinth|[Drama, Mystery, ...|December 29, 2006|       98|      8.7|            2,414|           188|              150|\n",
            "|The Treasure of t...|[Adventure, Drama...| January 24, 1948|       98|      8.5|               93|             6|                2|\n",
            "|        Citizen Kane|    [Drama, Mystery]|September 4, 1941|      100|      8.4|              600|            52|               36|\n",
            "|           Lady Bird|     [Drama, Comedy]| November 3, 2017|       94|      7.6|              786|           117|               90|\n",
            "|        We Were Here|       [Documentary]|September 9, 2011|       94|      6.9|               27|             6|                9|\n",
            "|      The Gunfighter|           [Western]|    June 23, 1950|       94|      7.4|                8|             1|                0|\n",
            "|      Apocalypse Now|[Action, Drama, War]|  August 15, 1979|       94|      8.8|              619|            35|               21|\n",
            "|       The Apartment|[Drama, Comedy, R...|    June 15, 1960|       94|      8.8|               40|             0|                1|\n",
            "|Meet Me in St. Louis|[Drama, Comedy, R...|  January 1, 1945|       94|      6.0|                2|             2|                1|\n",
            "+--------------------+--------------------+-----------------+---------+---------+-----------------+--------------+-----------------+\n",
            "only showing top 20 rows\n",
            "\n"
          ]
        }
      ]
    },
    {
      "cell_type": "code",
      "metadata": {
        "colab": {
          "base_uri": "https://localhost:8080/"
        },
        "id": "VXLVZLmQkfAw",
        "outputId": "cab64fa0-e8ef-4fdf-d36d-13d94ea94cfe"
      },
      "source": [
        "type(df)"
      ],
      "execution_count": 8,
      "outputs": [
        {
          "output_type": "execute_result",
          "data": {
            "text/plain": [
              "pandas.core.frame.DataFrame"
            ]
          },
          "metadata": {},
          "execution_count": 8
        }
      ]
    },
    {
      "cell_type": "code",
      "metadata": {
        "colab": {
          "base_uri": "https://localhost:8080/"
        },
        "id": "oIXKEhWKkpjT",
        "outputId": "f98741bf-252f-419c-b5f9-e8a297fb5599"
      },
      "source": [
        "type(sparkdf)"
      ],
      "execution_count": 9,
      "outputs": [
        {
          "output_type": "execute_result",
          "data": {
            "text/plain": [
              "pyspark.sql.dataframe.DataFrame"
            ]
          },
          "metadata": {},
          "execution_count": 9
        }
      ]
    },
    {
      "cell_type": "code",
      "metadata": {
        "colab": {
          "base_uri": "https://localhost:8080/"
        },
        "id": "Kb_uBXvOKvFf",
        "outputId": "844f2b19-8b5c-45a2-b9db-2d1db49c2d35"
      },
      "source": [
        "type('UserScoreMixed') "
      ],
      "execution_count": 10,
      "outputs": [
        {
          "output_type": "execute_result",
          "data": {
            "text/plain": [
              "str"
            ]
          },
          "metadata": {},
          "execution_count": 10
        }
      ]
    },
    {
      "cell_type": "code",
      "metadata": {
        "colab": {
          "base_uri": "https://localhost:8080/"
        },
        "id": "Yzat5CkIMw-f",
        "outputId": "e39ebd41-d554-49ec-c5c8-a0a33ecbd2b1"
      },
      "source": [
        "sparkdf.select('genres').show()"
      ],
      "execution_count": 11,
      "outputs": [
        {
          "output_type": "stream",
          "name": "stdout",
          "text": [
            "+--------------------+\n",
            "|              genres|\n",
            "+--------------------+\n",
            "|[Drama, Mystery, ...|\n",
            "|             [Drama]|\n",
            "|[Drama, Romance, ...|\n",
            "| [Mystery, Thriller]|\n",
            "|[Drama, Thriller,...|\n",
            "|    [Drama, History]|\n",
            "|             [Drama]|\n",
            "|[Drama, Comedy, R...|\n",
            "|[Comedy, Romance,...|\n",
            "|[Drama, Thriller,...|\n",
            "|   [Comedy, Romance]|\n",
            "|[Drama, Mystery, ...|\n",
            "|[Adventure, Drama...|\n",
            "|    [Drama, Mystery]|\n",
            "|     [Drama, Comedy]|\n",
            "|       [Documentary]|\n",
            "|           [Western]|\n",
            "|[Action, Drama, War]|\n",
            "|[Drama, Comedy, R...|\n",
            "|[Drama, Comedy, R...|\n",
            "+--------------------+\n",
            "only showing top 20 rows\n",
            "\n"
          ]
        }
      ]
    },
    {
      "cell_type": "code",
      "metadata": {
        "colab": {
          "base_uri": "https://localhost:8080/"
        },
        "id": "gAIoiDdzSQv0",
        "outputId": "960c2527-fe83-488c-c3fe-cee29a9a5304"
      },
      "source": [
        "sparkdf.show()"
      ],
      "execution_count": 12,
      "outputs": [
        {
          "output_type": "stream",
          "name": "stdout",
          "text": [
            "+--------------------+--------------------+-----------------+---------+---------+-----------------+--------------+-----------------+\n",
            "|               title|              genres|             date|Metascore|Userscore|UserScorePositive|UserScoreMixed|UserScoreNegative|\n",
            "+--------------------+--------------------+-----------------+---------+---------+-----------------+--------------+-----------------+\n",
            "|   Three Colors: Red|[Drama, Mystery, ...|November 23, 1994|      100|      8.6|              152|             4|                9|\n",
            "|             Boyhood|             [Drama]|    July 11, 2014|      100|      7.5|            1,869|           274|              354|\n",
            "|          Casablanca|[Drama, Romance, ...| January 23, 1943|      100|      8.9|              360|            11|               10|\n",
            "|         Rear Window| [Mystery, Thriller]|September 1, 1954|      100|      8.8|              365|            15|               10|\n",
            "|       The Godfather|[Drama, Thriller,...|   March 11, 1972|      100|      9.2|            3,293|            93|              115|\n",
            "|         Intolerance|    [Drama, History]|September 5, 1916|       99|      7.4|               13|             1|                4|\n",
            "|           Moonlight|             [Drama]| October 21, 2016|       99|      7.1|            1,244|           175|              317|\n",
            "|         City Lights|[Drama, Comedy, R...|    March 7, 1931|       99|      8.9|              102|             1|                3|\n",
            "| Singin' in the Rain|[Comedy, Romance,...|   April 11, 1952|       99|      8.7|              169|            13|                5|\n",
            "|           Notorious|[Drama, Thriller,...|September 6, 1946|      100|      8.0|               64|             7|                3|\n",
            "|    Some Like It Hot|   [Comedy, Romance]|   March 29, 1959|       98|      8.4|              140|            11|                4|\n",
            "|     Pan's Labyrinth|[Drama, Mystery, ...|December 29, 2006|       98|      8.7|            2,414|           188|              150|\n",
            "|The Treasure of t...|[Adventure, Drama...| January 24, 1948|       98|      8.5|               93|             6|                2|\n",
            "|        Citizen Kane|    [Drama, Mystery]|September 4, 1941|      100|      8.4|              600|            52|               36|\n",
            "|           Lady Bird|     [Drama, Comedy]| November 3, 2017|       94|      7.6|              786|           117|               90|\n",
            "|        We Were Here|       [Documentary]|September 9, 2011|       94|      6.9|               27|             6|                9|\n",
            "|      The Gunfighter|           [Western]|    June 23, 1950|       94|      7.4|                8|             1|                0|\n",
            "|      Apocalypse Now|[Action, Drama, War]|  August 15, 1979|       94|      8.8|              619|            35|               21|\n",
            "|       The Apartment|[Drama, Comedy, R...|    June 15, 1960|       94|      8.8|               40|             0|                1|\n",
            "|Meet Me in St. Louis|[Drama, Comedy, R...|  January 1, 1945|       94|      6.0|                2|             2|                1|\n",
            "+--------------------+--------------------+-----------------+---------+---------+-----------------+--------------+-----------------+\n",
            "only showing top 20 rows\n",
            "\n"
          ]
        }
      ]
    },
    {
      "cell_type": "code",
      "metadata": {
        "id": "IJIi72l5MMZQ"
      },
      "source": [
        "from pyspark.sql.functions import col\n",
        "df = (sparkdf\n",
        "       .withColumn(\"Metascore\", col(\"Metascore\").cast(\"float\"))\n",
        "       .withColumn(\"Userscore\", col(\"Userscore\").cast(\"float\"))\n",
        "       .withColumn(\"UserScorePositive\", col(\"UserScorePositive\").cast(\"float\"))\n",
        "       .withColumn(\"UserScoreMixed\", col(\"UserScoreMixed\").cast(\"float\"))\n",
        "       .withColumn(\"UserScoreNegative\", col(\"UserScoreNegative\").cast(\"float\"))\n",
        "       .dropna()\n",
        "       )"
      ],
      "execution_count": 13,
      "outputs": []
    },
    {
      "cell_type": "code",
      "metadata": {
        "colab": {
          "base_uri": "https://localhost:8080/"
        },
        "id": "tSTKEcv0Moci",
        "outputId": "abec6533-49cf-468c-bd93-c4609f2b7e88"
      },
      "source": [
        "df"
      ],
      "execution_count": 14,
      "outputs": [
        {
          "output_type": "execute_result",
          "data": {
            "text/plain": [
              "DataFrame[title: string, genres: array<string>, date: string, Metascore: float, Userscore: float, UserScorePositive: float, UserScoreMixed: float, UserScoreNegative: float]"
            ]
          },
          "metadata": {},
          "execution_count": 14
        }
      ]
    },
    {
      "cell_type": "code",
      "metadata": {
        "id": "IHaaghnqEF2u"
      },
      "source": [
        "from pyspark.sql.functions import col\n"
      ],
      "execution_count": 15,
      "outputs": []
    },
    {
      "cell_type": "code",
      "metadata": {
        "id": "4LC96x18EI7-"
      },
      "source": [
        "df1= df.withColumn(\"PerPostive\", (col(\"UserScorePositive\") / col(\"UserScorePositive\")+col(\"UserScoreMixed\")+col('UserScoreNegative')))"
      ],
      "execution_count": 16,
      "outputs": []
    },
    {
      "cell_type": "code",
      "metadata": {
        "colab": {
          "base_uri": "https://localhost:8080/"
        },
        "id": "BGPWED7iJpr4",
        "outputId": "e1243055-cc18-4fe5-b8be-3d4a7f63964f"
      },
      "source": [
        "df1.show(3)"
      ],
      "execution_count": 17,
      "outputs": [
        {
          "output_type": "stream",
          "name": "stdout",
          "text": [
            "+-----------------+--------------------+-----------------+---------+---------+-----------------+--------------+-----------------+----------+\n",
            "|            title|              genres|             date|Metascore|Userscore|UserScorePositive|UserScoreMixed|UserScoreNegative|PerPostive|\n",
            "+-----------------+--------------------+-----------------+---------+---------+-----------------+--------------+-----------------+----------+\n",
            "|Three Colors: Red|[Drama, Mystery, ...|November 23, 1994|    100.0|      8.6|            152.0|           4.0|              9.0|      14.0|\n",
            "|       Casablanca|[Drama, Romance, ...| January 23, 1943|    100.0|      8.9|            360.0|          11.0|             10.0|      22.0|\n",
            "|      Rear Window| [Mystery, Thriller]|September 1, 1954|    100.0|      8.8|            365.0|          15.0|             10.0|      26.0|\n",
            "+-----------------+--------------------+-----------------+---------+---------+-----------------+--------------+-----------------+----------+\n",
            "only showing top 3 rows\n",
            "\n"
          ]
        }
      ]
    },
    {
      "cell_type": "code",
      "metadata": {
        "colab": {
          "base_uri": "https://localhost:8080/"
        },
        "id": "cho9HyvrbouK",
        "outputId": "0b90c2b0-29f8-4ac7-e2da-2c77c375feea"
      },
      "source": [
        "df1.printSchema()"
      ],
      "execution_count": 24,
      "outputs": [
        {
          "output_type": "stream",
          "name": "stdout",
          "text": [
            "root\n",
            " |-- title: string (nullable = true)\n",
            " |-- genres: array (nullable = true)\n",
            " |    |-- element: string (containsNull = true)\n",
            " |-- date: string (nullable = true)\n",
            " |-- Metascore: float (nullable = true)\n",
            " |-- Userscore: float (nullable = true)\n",
            " |-- UserScorePositive: float (nullable = true)\n",
            " |-- UserScoreMixed: float (nullable = true)\n",
            " |-- UserScoreNegative: float (nullable = true)\n",
            " |-- PerPostive: double (nullable = true)\n",
            "\n"
          ]
        }
      ]
    },
    {
      "cell_type": "code",
      "metadata": {
        "colab": {
          "base_uri": "https://localhost:8080/"
        },
        "id": "ZiNuEdGlb029",
        "outputId": "f67b435d-d549-4fc4-85f1-2069988dad49"
      },
      "source": [
        "df11=df1.drop(df1.UserScorePositive)\n",
        "\n",
        "df11.show()"
      ],
      "execution_count": 31,
      "outputs": [
        {
          "output_type": "stream",
          "name": "stdout",
          "text": [
            "+--------------------+--------------------+-----------------+---------+---------+--------------+-----------------+----------+\n",
            "|               title|              genres|             date|Metascore|Userscore|UserScoreMixed|UserScoreNegative|PerPostive|\n",
            "+--------------------+--------------------+-----------------+---------+---------+--------------+-----------------+----------+\n",
            "|   Three Colors: Red|[Drama, Mystery, ...|November 23, 1994|    100.0|      8.6|           4.0|              9.0|      14.0|\n",
            "|          Casablanca|[Drama, Romance, ...| January 23, 1943|    100.0|      8.9|          11.0|             10.0|      22.0|\n",
            "|         Rear Window| [Mystery, Thriller]|September 1, 1954|    100.0|      8.8|          15.0|             10.0|      26.0|\n",
            "|         Intolerance|    [Drama, History]|September 5, 1916|     99.0|      7.4|           1.0|              4.0|       6.0|\n",
            "|         City Lights|[Drama, Comedy, R...|    March 7, 1931|     99.0|      8.9|           1.0|              3.0|       5.0|\n",
            "| Singin' in the Rain|[Comedy, Romance,...|   April 11, 1952|     99.0|      8.7|          13.0|              5.0|      19.0|\n",
            "|           Notorious|[Drama, Thriller,...|September 6, 1946|    100.0|      8.0|           7.0|              3.0|      11.0|\n",
            "|    Some Like It Hot|   [Comedy, Romance]|   March 29, 1959|     98.0|      8.4|          11.0|              4.0|      16.0|\n",
            "|The Treasure of t...|[Adventure, Drama...| January 24, 1948|     98.0|      8.5|           6.0|              2.0|       9.0|\n",
            "|        Citizen Kane|    [Drama, Mystery]|September 4, 1941|    100.0|      8.4|          52.0|             36.0|      89.0|\n",
            "|           Lady Bird|     [Drama, Comedy]| November 3, 2017|     94.0|      7.6|         117.0|             90.0|     208.0|\n",
            "|        We Were Here|       [Documentary]|September 9, 2011|     94.0|      6.9|           6.0|              9.0|      16.0|\n",
            "|      The Gunfighter|           [Western]|    June 23, 1950|     94.0|      7.4|           1.0|              0.0|       2.0|\n",
            "|      Apocalypse Now|[Action, Drama, War]|  August 15, 1979|     94.0|      8.8|          35.0|             21.0|      57.0|\n",
            "|       The Apartment|[Drama, Comedy, R...|    June 15, 1960|     94.0|      8.8|           0.0|              1.0|       2.0|\n",
            "|Meet Me in St. Louis|[Drama, Comedy, R...|  January 1, 1945|     94.0|      6.0|           2.0|              1.0|       4.0|\n",
            "| The Florida Project|             [Drama]|  October 6, 2017|     92.0|      7.4|          40.0|             46.0|      87.0|\n",
            "|The Man Who Would...|         [Adventure]|December 16, 1975|     91.0|      6.8|           2.0|              2.0|       5.0|\n",
            "| Jafar Panahi's Taxi|     [Drama, Comedy]|  October 2, 2015|     91.0|      7.1|          10.0|             11.0|      22.0|\n",
            "|             Vertigo|[Mystery, Thrille...|     May 28, 1958|    100.0|      8.7|          21.0|              5.0|      27.0|\n",
            "+--------------------+--------------------+-----------------+---------+---------+--------------+-----------------+----------+\n",
            "only showing top 20 rows\n",
            "\n"
          ]
        }
      ]
    },
    {
      "cell_type": "code",
      "metadata": {
        "id": "Ld1gpiAzJCF2"
      },
      "source": [
        "df2 = df.withColumn(\"Sum\", col(\"UserScorePositive\")+ col(\"UserScoreMixed\")+col('UserScoreNegative'))"
      ],
      "execution_count": 18,
      "outputs": []
    },
    {
      "cell_type": "code",
      "metadata": {
        "colab": {
          "base_uri": "https://localhost:8080/"
        },
        "id": "isM0fDnaKKS_",
        "outputId": "e3165a7f-5bb1-4668-cb69-163f7a7bf5ac"
      },
      "source": [
        "df2.show(3)"
      ],
      "execution_count": 19,
      "outputs": [
        {
          "output_type": "stream",
          "name": "stdout",
          "text": [
            "+-----------------+--------------------+-----------------+---------+---------+-----------------+--------------+-----------------+-----+\n",
            "|            title|              genres|             date|Metascore|Userscore|UserScorePositive|UserScoreMixed|UserScoreNegative|  Sum|\n",
            "+-----------------+--------------------+-----------------+---------+---------+-----------------+--------------+-----------------+-----+\n",
            "|Three Colors: Red|[Drama, Mystery, ...|November 23, 1994|    100.0|      8.6|            152.0|           4.0|              9.0|165.0|\n",
            "|       Casablanca|[Drama, Romance, ...| January 23, 1943|    100.0|      8.9|            360.0|          11.0|             10.0|381.0|\n",
            "|      Rear Window| [Mystery, Thriller]|September 1, 1954|    100.0|      8.8|            365.0|          15.0|             10.0|390.0|\n",
            "+-----------------+--------------------+-----------------+---------+---------+-----------------+--------------+-----------------+-----+\n",
            "only showing top 3 rows\n",
            "\n"
          ]
        }
      ]
    },
    {
      "cell_type": "code",
      "metadata": {
        "id": "4Xc5W8dGc1iJ"
      },
      "source": [
        "\n"
      ],
      "execution_count": null,
      "outputs": []
    },
    {
      "cell_type": "code",
      "metadata": {
        "colab": {
          "base_uri": "https://localhost:8080/"
        },
        "id": "nZvOdKQ5J89v",
        "outputId": "25330a83-470e-4409-d174-525a5feef7eb"
      },
      "source": [
        "Nega = df2.withColumn(\"Negative\", col(\"UserScoreNegative\") / col(\"Sum\"))\n",
        "Nega.show(2)"
      ],
      "execution_count": 20,
      "outputs": [
        {
          "output_type": "stream",
          "name": "stdout",
          "text": [
            "+-----------------+--------------------+-----------------+---------+---------+-----------------+--------------+-----------------+-----+--------------------+\n",
            "|            title|              genres|             date|Metascore|Userscore|UserScorePositive|UserScoreMixed|UserScoreNegative|  Sum|            Negative|\n",
            "+-----------------+--------------------+-----------------+---------+---------+-----------------+--------------+-----------------+-----+--------------------+\n",
            "|Three Colors: Red|[Drama, Mystery, ...|November 23, 1994|    100.0|      8.6|            152.0|           4.0|              9.0|165.0| 0.05454545454545454|\n",
            "|       Casablanca|[Drama, Romance, ...| January 23, 1943|    100.0|      8.9|            360.0|          11.0|             10.0|381.0|0.026246719160104987|\n",
            "+-----------------+--------------------+-----------------+---------+---------+-----------------+--------------+-----------------+-----+--------------------+\n",
            "only showing top 2 rows\n",
            "\n"
          ]
        }
      ]
    },
    {
      "cell_type": "code",
      "metadata": {
        "colab": {
          "base_uri": "https://localhost:8080/"
        },
        "id": "qG2nO_TgdLpr",
        "outputId": "4f34e638-73fc-4e8f-d6dd-9472c66a18ad"
      },
      "source": [
        "dfNega=Nega.drop('UserScoreNegative','UserScoreMixed','UserScorePositive','Sum')\n",
        "dfNega.show()"
      ],
      "execution_count": 33,
      "outputs": [
        {
          "output_type": "stream",
          "name": "stdout",
          "text": [
            "+--------------------+--------------------+-----------------+---------+---------+--------------------+\n",
            "|               title|              genres|             date|Metascore|Userscore|            Negative|\n",
            "+--------------------+--------------------+-----------------+---------+---------+--------------------+\n",
            "|   Three Colors: Red|[Drama, Mystery, ...|November 23, 1994|    100.0|      8.6| 0.05454545454545454|\n",
            "|          Casablanca|[Drama, Romance, ...| January 23, 1943|    100.0|      8.9|0.026246719160104987|\n",
            "|         Rear Window| [Mystery, Thriller]|September 1, 1954|    100.0|      8.8| 0.02564102564102564|\n",
            "|         Intolerance|    [Drama, History]|September 5, 1916|     99.0|      7.4|  0.2222222222222222|\n",
            "|         City Lights|[Drama, Comedy, R...|    March 7, 1931|     99.0|      8.9| 0.02830188679245283|\n",
            "| Singin' in the Rain|[Comedy, Romance,...|   April 11, 1952|     99.0|      8.7|0.026737967914438502|\n",
            "|           Notorious|[Drama, Thriller,...|September 6, 1946|    100.0|      8.0| 0.04054054054054054|\n",
            "|    Some Like It Hot|   [Comedy, Romance]|   March 29, 1959|     98.0|      8.4|0.025806451612903226|\n",
            "|The Treasure of t...|[Adventure, Drama...| January 24, 1948|     98.0|      8.5|0.019801980198019802|\n",
            "|        Citizen Kane|    [Drama, Mystery]|September 4, 1941|    100.0|      8.4| 0.05232558139534884|\n",
            "|           Lady Bird|     [Drama, Comedy]| November 3, 2017|     94.0|      7.6| 0.09063444108761329|\n",
            "|        We Were Here|       [Documentary]|September 9, 2011|     94.0|      6.9| 0.21428571428571427|\n",
            "|      The Gunfighter|           [Western]|    June 23, 1950|     94.0|      7.4|                 0.0|\n",
            "|      Apocalypse Now|[Action, Drama, War]|  August 15, 1979|     94.0|      8.8| 0.03111111111111111|\n",
            "|       The Apartment|[Drama, Comedy, R...|    June 15, 1960|     94.0|      8.8|0.024390243902439025|\n",
            "|Meet Me in St. Louis|[Drama, Comedy, R...|  January 1, 1945|     94.0|      6.0|                 0.2|\n",
            "| The Florida Project|             [Drama]|  October 6, 2017|     92.0|      7.4| 0.12602739726027398|\n",
            "|The Man Who Would...|         [Adventure]|December 16, 1975|     91.0|      6.8| 0.15384615384615385|\n",
            "| Jafar Panahi's Taxi|     [Drama, Comedy]|  October 2, 2015|     91.0|      7.1|  0.1527777777777778|\n",
            "|             Vertigo|[Mystery, Thrille...|     May 28, 1958|    100.0|      8.7|0.017241379310344827|\n",
            "+--------------------+--------------------+-----------------+---------+---------+--------------------+\n",
            "only showing top 20 rows\n",
            "\n"
          ]
        }
      ]
    },
    {
      "cell_type": "code",
      "metadata": {
        "colab": {
          "base_uri": "https://localhost:8080/"
        },
        "id": "j1yNn-EtE0uJ",
        "outputId": "7ab3e5b4-d540-4938-8243-816462a6afbd"
      },
      "source": [
        "Posi = df2.withColumn(\n",
        "    \"Positive\", col(\"UserScorePositive\") / col(\"Sum\")\n",
        "    \n",
        "    )\n",
        "Posi.show(3)"
      ],
      "execution_count": 21,
      "outputs": [
        {
          "output_type": "stream",
          "name": "stdout",
          "text": [
            "+-----------------+--------------------+-----------------+---------+---------+-----------------+--------------+-----------------+-----+------------------+\n",
            "|            title|              genres|             date|Metascore|Userscore|UserScorePositive|UserScoreMixed|UserScoreNegative|  Sum|          Positive|\n",
            "+-----------------+--------------------+-----------------+---------+---------+-----------------+--------------+-----------------+-----+------------------+\n",
            "|Three Colors: Red|[Drama, Mystery, ...|November 23, 1994|    100.0|      8.6|            152.0|           4.0|              9.0|165.0|0.9212121212121213|\n",
            "|       Casablanca|[Drama, Romance, ...| January 23, 1943|    100.0|      8.9|            360.0|          11.0|             10.0|381.0|0.9448818897637795|\n",
            "|      Rear Window| [Mystery, Thriller]|September 1, 1954|    100.0|      8.8|            365.0|          15.0|             10.0|390.0|0.9358974358974359|\n",
            "+-----------------+--------------------+-----------------+---------+---------+-----------------+--------------+-----------------+-----+------------------+\n",
            "only showing top 3 rows\n",
            "\n"
          ]
        }
      ]
    },
    {
      "cell_type": "code",
      "metadata": {
        "colab": {
          "base_uri": "https://localhost:8080/"
        },
        "id": "vSVI5JYYd7as",
        "outputId": "3220b6c7-fdde-4346-d83d-808e2fed3e34"
      },
      "source": [
        "dfPosi=Posi.drop('UserScorePositive','UserScoreMixed','UserScoreNegative','Sum','date')\n",
        "dfPosi.show()"
      ],
      "execution_count": 60,
      "outputs": [
        {
          "output_type": "stream",
          "name": "stdout",
          "text": [
            "+--------------------+--------------------+---------+---------+------------------+\n",
            "|               title|              genres|Metascore|Userscore|          Positive|\n",
            "+--------------------+--------------------+---------+---------+------------------+\n",
            "|   Three Colors: Red|[Drama, Mystery, ...|    100.0|      8.6|0.9212121212121213|\n",
            "|          Casablanca|[Drama, Romance, ...|    100.0|      8.9|0.9448818897637795|\n",
            "|         Rear Window| [Mystery, Thriller]|    100.0|      8.8|0.9358974358974359|\n",
            "|         Intolerance|    [Drama, History]|     99.0|      7.4|0.7222222222222222|\n",
            "|         City Lights|[Drama, Comedy, R...|     99.0|      8.9|0.9622641509433962|\n",
            "| Singin' in the Rain|[Comedy, Romance,...|     99.0|      8.7|0.9037433155080213|\n",
            "|           Notorious|[Drama, Thriller,...|    100.0|      8.0|0.8648648648648649|\n",
            "|    Some Like It Hot|   [Comedy, Romance]|     98.0|      8.4|0.9032258064516129|\n",
            "|The Treasure of t...|[Adventure, Drama...|     98.0|      8.5|0.9207920792079208|\n",
            "|        Citizen Kane|    [Drama, Mystery]|    100.0|      8.4| 0.872093023255814|\n",
            "|           Lady Bird|     [Drama, Comedy]|     94.0|      7.6|0.7915407854984894|\n",
            "|        We Were Here|       [Documentary]|     94.0|      6.9|0.6428571428571429|\n",
            "|      The Gunfighter|           [Western]|     94.0|      7.4|0.8888888888888888|\n",
            "|      Apocalypse Now|[Action, Drama, War]|     94.0|      8.8| 0.917037037037037|\n",
            "|       The Apartment|[Drama, Comedy, R...|     94.0|      8.8| 0.975609756097561|\n",
            "|Meet Me in St. Louis|[Drama, Comedy, R...|     94.0|      6.0|               0.4|\n",
            "| The Florida Project|             [Drama]|     92.0|      7.4|0.7643835616438356|\n",
            "|The Man Who Would...|         [Adventure]|     91.0|      6.8|0.6923076923076923|\n",
            "| Jafar Panahi's Taxi|     [Drama, Comedy]|     91.0|      7.1|0.7083333333333334|\n",
            "|             Vertigo|[Mystery, Thrille...|    100.0|      8.7|0.9103448275862069|\n",
            "+--------------------+--------------------+---------+---------+------------------+\n",
            "only showing top 20 rows\n",
            "\n"
          ]
        }
      ]
    },
    {
      "cell_type": "code",
      "metadata": {
        "colab": {
          "base_uri": "https://localhost:8080/"
        },
        "id": "2TKXMl3nO_Bu",
        "outputId": "c888a1d5-aafd-401c-8206-990b91437bdf"
      },
      "source": [
        "Mixed = df2.withColumn(\n",
        "   \n",
        "    \"Mixed\", col(\"UserScoreMixed\") / col(\"Sum\")\n",
        "    )\n",
        "Mixed .show(3)"
      ],
      "execution_count": 22,
      "outputs": [
        {
          "output_type": "stream",
          "name": "stdout",
          "text": [
            "+-----------------+--------------------+-----------------+---------+---------+-----------------+--------------+-----------------+-----+--------------------+\n",
            "|            title|              genres|             date|Metascore|Userscore|UserScorePositive|UserScoreMixed|UserScoreNegative|  Sum|               Mixed|\n",
            "+-----------------+--------------------+-----------------+---------+---------+-----------------+--------------+-----------------+-----+--------------------+\n",
            "|Three Colors: Red|[Drama, Mystery, ...|November 23, 1994|    100.0|      8.6|            152.0|           4.0|              9.0|165.0|0.024242424242424242|\n",
            "|       Casablanca|[Drama, Romance, ...| January 23, 1943|    100.0|      8.9|            360.0|          11.0|             10.0|381.0|0.028871391076115485|\n",
            "|      Rear Window| [Mystery, Thriller]|September 1, 1954|    100.0|      8.8|            365.0|          15.0|             10.0|390.0|0.038461538461538464|\n",
            "+-----------------+--------------------+-----------------+---------+---------+-----------------+--------------+-----------------+-----+--------------------+\n",
            "only showing top 3 rows\n",
            "\n"
          ]
        }
      ]
    },
    {
      "cell_type": "code",
      "metadata": {
        "colab": {
          "base_uri": "https://localhost:8080/"
        },
        "id": "vdMHinjiej8s",
        "outputId": "b6d0e6b0-e9aa-4245-8d6b-322d8c3069dc"
      },
      "source": [
        "dfMixed=Mixed.drop('UserScorePositive','UserScoreMixed','UserScoreNegative')\n",
        "dfMixed.show()"
      ],
      "execution_count": 36,
      "outputs": [
        {
          "output_type": "stream",
          "name": "stdout",
          "text": [
            "+--------------------+--------------------+-----------------+---------+---------+-----+--------------------+\n",
            "|               title|              genres|             date|Metascore|Userscore|  Sum|               Mixed|\n",
            "+--------------------+--------------------+-----------------+---------+---------+-----+--------------------+\n",
            "|   Three Colors: Red|[Drama, Mystery, ...|November 23, 1994|    100.0|      8.6|165.0|0.024242424242424242|\n",
            "|          Casablanca|[Drama, Romance, ...| January 23, 1943|    100.0|      8.9|381.0|0.028871391076115485|\n",
            "|         Rear Window| [Mystery, Thriller]|September 1, 1954|    100.0|      8.8|390.0|0.038461538461538464|\n",
            "|         Intolerance|    [Drama, History]|September 5, 1916|     99.0|      7.4| 18.0| 0.05555555555555555|\n",
            "|         City Lights|[Drama, Comedy, R...|    March 7, 1931|     99.0|      8.9|106.0|0.009433962264150943|\n",
            "| Singin' in the Rain|[Comedy, Romance,...|   April 11, 1952|     99.0|      8.7|187.0| 0.06951871657754011|\n",
            "|           Notorious|[Drama, Thriller,...|September 6, 1946|    100.0|      8.0| 74.0|  0.0945945945945946|\n",
            "|    Some Like It Hot|   [Comedy, Romance]|   March 29, 1959|     98.0|      8.4|155.0| 0.07096774193548387|\n",
            "|The Treasure of t...|[Adventure, Drama...| January 24, 1948|     98.0|      8.5|101.0|  0.0594059405940594|\n",
            "|        Citizen Kane|    [Drama, Mystery]|September 4, 1941|    100.0|      8.4|688.0|  0.0755813953488372|\n",
            "|           Lady Bird|     [Drama, Comedy]| November 3, 2017|     94.0|      7.6|993.0| 0.11782477341389729|\n",
            "|        We Were Here|       [Documentary]|September 9, 2011|     94.0|      6.9| 42.0| 0.14285714285714285|\n",
            "|      The Gunfighter|           [Western]|    June 23, 1950|     94.0|      7.4|  9.0|  0.1111111111111111|\n",
            "|      Apocalypse Now|[Action, Drama, War]|  August 15, 1979|     94.0|      8.8|675.0| 0.05185185185185185|\n",
            "|       The Apartment|[Drama, Comedy, R...|    June 15, 1960|     94.0|      8.8| 41.0|                 0.0|\n",
            "|Meet Me in St. Louis|[Drama, Comedy, R...|  January 1, 1945|     94.0|      6.0|  5.0|                 0.4|\n",
            "| The Florida Project|             [Drama]|  October 6, 2017|     92.0|      7.4|365.0|  0.1095890410958904|\n",
            "|The Man Who Would...|         [Adventure]|December 16, 1975|     91.0|      6.8| 13.0| 0.15384615384615385|\n",
            "| Jafar Panahi's Taxi|     [Drama, Comedy]|  October 2, 2015|     91.0|      7.1| 72.0|  0.1388888888888889|\n",
            "|             Vertigo|[Mystery, Thrille...|     May 28, 1958|    100.0|      8.7|290.0| 0.07241379310344828|\n",
            "+--------------------+--------------------+-----------------+---------+---------+-----+--------------------+\n",
            "only showing top 20 rows\n",
            "\n"
          ]
        }
      ]
    },
    {
      "cell_type": "code",
      "metadata": {
        "id": "iyh6_rDqt5pQ"
      },
      "source": [
        "from pyspark.sql.functions import *"
      ],
      "execution_count": 70,
      "outputs": []
    },
    {
      "cell_type": "code",
      "metadata": {
        "colab": {
          "base_uri": "https://localhost:8080/"
        },
        "id": "axuHtqdmOGS_",
        "outputId": "a0f38187-bf9c-4a3c-e0b7-a6145817ea0a"
      },
      "source": [
        "dfMixed = dfMixed.alias('dfMixed')\n",
        "dfPosi = dfPosi.alias('dfPosi')\n",
        "\n",
        "newdf =dfMixed.join(dfPosi, dfMixed.title == dfPosi.title).select(dfMixed['*'],dfPosi['Positive'])\n",
        "newdf.show(2)"
      ],
      "execution_count": 83,
      "outputs": [
        {
          "output_type": "stream",
          "name": "stdout",
          "text": [
            "+------------------+--------------------+-------------+---------+---------+----+-------------------+------------------+\n",
            "|             title|              genres|         date|Metascore|Userscore| Sum|              Mixed|          Positive|\n",
            "+------------------+--------------------+-------------+---------+---------+----+-------------------+------------------+\n",
            "|          Deep Red|[Mystery, Thrille...|June 11, 1976|     89.0|      8.2|23.0|0.17391304347826086|0.8260869565217391|\n",
            "|Living in Oblivion|     [Drama, Comedy]|July 21, 1995|     81.0|      7.0| 5.0|                0.0|               0.8|\n",
            "+------------------+--------------------+-------------+---------+---------+----+-------------------+------------------+\n",
            "only showing top 2 rows\n",
            "\n"
          ]
        }
      ]
    },
    {
      "cell_type": "code",
      "metadata": {
        "colab": {
          "base_uri": "https://localhost:8080/"
        },
        "id": "IkqrrYI6xSGw",
        "outputId": "489d91bf-9970-413f-f9c0-744c177b7a0f"
      },
      "source": [
        "newdf = newdf.alias('newdf')\n",
        "dfNega = dfNega.alias('dfNega')\n",
        "\n",
        "joinnew = newdf.join(dfNega, dfNega.date == newdf.date).select(newdf['*'],dfNega['Negative'])\n",
        "joinnew.show()"
      ],
      "execution_count": 84,
      "outputs": [
        {
          "output_type": "stream",
          "name": "stdout",
          "text": [
            "+--------------------+--------------------+-----------------+---------+---------+----+--------------------+------------------+--------------------+\n",
            "|               title|              genres|             date|Metascore|Userscore| Sum|               Mixed|          Positive|            Negative|\n",
            "+--------------------+--------------------+-----------------+---------+---------+----+--------------------+------------------+--------------------+\n",
            "| The Invisible Woman|[Biography, Drama...|December 25, 2013|     75.0|      7.1|35.0| 0.45714285714285713|0.5428571428571428| 0.18823529411764706|\n",
            "| The Invisible Woman|[Biography, Drama...|December 25, 2013|     75.0|      7.1|35.0| 0.45714285714285713|0.5428571428571428|  0.1320754716981132|\n",
            "| The Invisible Woman|[Biography, Drama...|December 25, 2013|     75.0|      7.1|35.0| 0.45714285714285713|0.5428571428571428|  0.6745283018867925|\n",
            "| The Invisible Woman|[Biography, Drama...|December 25, 2013|     75.0|      7.1|35.0| 0.45714285714285713|0.5428571428571428| 0.06890756302521009|\n",
            "| The Invisible Woman|[Biography, Drama...|December 25, 2013|     75.0|      7.1|35.0| 0.45714285714285713|0.5428571428571428| 0.09216589861751152|\n",
            "| The Invisible Woman|[Biography, Drama...|December 25, 2013|     75.0|      7.1|35.0| 0.45714285714285713|0.5428571428571428|                 0.0|\n",
            "|         Dream Horse|[Biography, Drama...|     May 21, 2021|     68.0|      6.0| 6.0|  0.6666666666666666|0.3333333333333333|                 0.5|\n",
            "|         Dream Horse|[Biography, Drama...|     May 21, 2021|     68.0|      6.0| 6.0|  0.6666666666666666|0.3333333333333333|                 0.0|\n",
            "|         Dream Horse|[Biography, Drama...|     May 21, 2021|     68.0|      6.0| 6.0|  0.6666666666666666|0.3333333333333333| 0.21052631578947367|\n",
            "|     The Family Fang|[Drama, Mystery, ...|   April 29, 2016|     67.0|      6.7|31.0|  0.3548387096774194|0.5806451612903226|  0.6888888888888889|\n",
            "|     The Family Fang|[Drama, Mystery, ...|   April 29, 2016|     67.0|      6.7|31.0|  0.3548387096774194|0.5806451612903226| 0.21194029850746268|\n",
            "|     The Family Fang|[Drama, Mystery, ...|   April 29, 2016|     67.0|      6.7|31.0|  0.3548387096774194|0.5806451612903226|  0.3333333333333333|\n",
            "|     The Family Fang|[Drama, Mystery, ...|   April 29, 2016|     67.0|      6.7|31.0|  0.3548387096774194|0.5806451612903226|               0.375|\n",
            "|     The Family Fang|[Drama, Mystery, ...|   April 29, 2016|     67.0|      6.7|31.0|  0.3548387096774194|0.5806451612903226|                 0.8|\n",
            "|     The Family Fang|[Drama, Mystery, ...|   April 29, 2016|     67.0|      6.7|31.0|  0.3548387096774194|0.5806451612903226|                0.04|\n",
            "|     The Family Fang|[Drama, Mystery, ...|   April 29, 2016|     67.0|      6.7|31.0|  0.3548387096774194|0.5806451612903226|  0.3333333333333333|\n",
            "|     The Family Fang|[Drama, Mystery, ...|   April 29, 2016|     67.0|      6.7|31.0|  0.3548387096774194|0.5806451612903226| 0.12418300653594772|\n",
            "|     The Family Fang|[Drama, Mystery, ...|   April 29, 2016|     67.0|      6.7|31.0|  0.3548387096774194|0.5806451612903226| 0.06451612903225806|\n",
            "|     The Family Fang|[Drama, Mystery, ...|   April 29, 2016|     67.0|      6.7|31.0|  0.3548387096774194|0.5806451612903226|                 0.0|\n",
            "|Kiki's Delivery S...|[Adventure, Drama...|    July 29, 1989|     83.0|      8.4|87.0|0.034482758620689655|0.9310344827586207|0.034482758620689655|\n",
            "+--------------------+--------------------+-----------------+---------+---------+----+--------------------+------------------+--------------------+\n",
            "only showing top 20 rows\n",
            "\n"
          ]
        }
      ]
    },
    {
      "cell_type": "code",
      "metadata": {
        "colab": {
          "base_uri": "https://localhost:8080/"
        },
        "id": "oqSlmnlouKxD",
        "outputId": "f6496956-875b-4ad8-ba69-8e3ebc95fc59"
      },
      "source": [
        "totdf= joinnew.drop('Sum') \n",
        "totdf.show()"
      ],
      "execution_count": 87,
      "outputs": [
        {
          "output_type": "stream",
          "name": "stdout",
          "text": [
            "+--------------------+--------------------+-----------------+---------+---------+--------------------+------------------+--------------------+\n",
            "|               title|              genres|             date|Metascore|Userscore|               Mixed|          Positive|            Negative|\n",
            "+--------------------+--------------------+-----------------+---------+---------+--------------------+------------------+--------------------+\n",
            "| The Invisible Woman|[Biography, Drama...|December 25, 2013|     75.0|      7.1| 0.45714285714285713|0.5428571428571428| 0.18823529411764706|\n",
            "| The Invisible Woman|[Biography, Drama...|December 25, 2013|     75.0|      7.1| 0.45714285714285713|0.5428571428571428|  0.1320754716981132|\n",
            "| The Invisible Woman|[Biography, Drama...|December 25, 2013|     75.0|      7.1| 0.45714285714285713|0.5428571428571428|  0.6745283018867925|\n",
            "| The Invisible Woman|[Biography, Drama...|December 25, 2013|     75.0|      7.1| 0.45714285714285713|0.5428571428571428| 0.06890756302521009|\n",
            "| The Invisible Woman|[Biography, Drama...|December 25, 2013|     75.0|      7.1| 0.45714285714285713|0.5428571428571428| 0.09216589861751152|\n",
            "| The Invisible Woman|[Biography, Drama...|December 25, 2013|     75.0|      7.1| 0.45714285714285713|0.5428571428571428|                 0.0|\n",
            "|         Dream Horse|[Biography, Drama...|     May 21, 2021|     68.0|      6.0|  0.6666666666666666|0.3333333333333333|                 0.5|\n",
            "|         Dream Horse|[Biography, Drama...|     May 21, 2021|     68.0|      6.0|  0.6666666666666666|0.3333333333333333|                 0.0|\n",
            "|         Dream Horse|[Biography, Drama...|     May 21, 2021|     68.0|      6.0|  0.6666666666666666|0.3333333333333333| 0.21052631578947367|\n",
            "|     The Family Fang|[Drama, Mystery, ...|   April 29, 2016|     67.0|      6.7|  0.3548387096774194|0.5806451612903226|  0.6888888888888889|\n",
            "|     The Family Fang|[Drama, Mystery, ...|   April 29, 2016|     67.0|      6.7|  0.3548387096774194|0.5806451612903226| 0.21194029850746268|\n",
            "|     The Family Fang|[Drama, Mystery, ...|   April 29, 2016|     67.0|      6.7|  0.3548387096774194|0.5806451612903226|  0.3333333333333333|\n",
            "|     The Family Fang|[Drama, Mystery, ...|   April 29, 2016|     67.0|      6.7|  0.3548387096774194|0.5806451612903226|               0.375|\n",
            "|     The Family Fang|[Drama, Mystery, ...|   April 29, 2016|     67.0|      6.7|  0.3548387096774194|0.5806451612903226|                 0.8|\n",
            "|     The Family Fang|[Drama, Mystery, ...|   April 29, 2016|     67.0|      6.7|  0.3548387096774194|0.5806451612903226|                0.04|\n",
            "|     The Family Fang|[Drama, Mystery, ...|   April 29, 2016|     67.0|      6.7|  0.3548387096774194|0.5806451612903226|  0.3333333333333333|\n",
            "|     The Family Fang|[Drama, Mystery, ...|   April 29, 2016|     67.0|      6.7|  0.3548387096774194|0.5806451612903226| 0.12418300653594772|\n",
            "|     The Family Fang|[Drama, Mystery, ...|   April 29, 2016|     67.0|      6.7|  0.3548387096774194|0.5806451612903226| 0.06451612903225806|\n",
            "|     The Family Fang|[Drama, Mystery, ...|   April 29, 2016|     67.0|      6.7|  0.3548387096774194|0.5806451612903226|                 0.0|\n",
            "|Kiki's Delivery S...|[Adventure, Drama...|    July 29, 1989|     83.0|      8.4|0.034482758620689655|0.9310344827586207|0.034482758620689655|\n",
            "+--------------------+--------------------+-----------------+---------+---------+--------------------+------------------+--------------------+\n",
            "only showing top 20 rows\n",
            "\n"
          ]
        }
      ]
    },
    {
      "cell_type": "code",
      "metadata": {
        "colab": {
          "base_uri": "https://localhost:8080/"
        },
        "id": "aajb6_VYvgoi",
        "outputId": "0f633077-02a7-410f-b972-307197255161"
      },
      "source": [
        "#Normalized MetaScore\n",
        "normaltot=totdf.withColumn('NormalizedMetaScore', (col('Metascore')/10))\n",
        "normaldf = normaltot.drop('Metascore')\n",
        "normaldf.show()\n",
        "type(normaldf)"
      ],
      "execution_count": 103,
      "outputs": [
        {
          "output_type": "stream",
          "name": "stdout",
          "text": [
            "+--------------------+--------------------+-----------------+---------+-------------------+------------------+--------------------+-------------------+\n",
            "|               title|              genres|             date|Userscore|              Mixed|          Positive|            Negative|NormalizedMetaScore|\n",
            "+--------------------+--------------------+-----------------+---------+-------------------+------------------+--------------------+-------------------+\n",
            "|            Deep Red|[Mystery, Thrille...|    June 11, 1976|      8.2|0.17391304347826086|0.8260869565217391|                 0.0|                8.9|\n",
            "|  Living in Oblivion|     [Drama, Comedy]|    July 21, 1995|      7.0|                0.0|               0.8|                 0.2|                8.1|\n",
            "|          Starred Up|             [Drama]|  August 27, 2014|      8.1|0.07368421052631578|0.9052631578947369| 0.17525773195876287|                8.1|\n",
            "|          Starred Up|             [Drama]|  August 27, 2014|      8.1|0.07368421052631578|0.9052631578947369|0.021052631578947368|                8.1|\n",
            "|The Devil Came on...|       [Documentary]|    July 25, 2007|      7.9|                0.0|             0.875| 0.09090909090909091|                7.8|\n",
            "|The Devil Came on...|       [Documentary]|    July 25, 2007|      7.9|                0.0|             0.875|               0.125|                7.8|\n",
            "|  My Flesh and Blood|       [Documentary]|November 28, 2003|      8.6|                0.0|0.8571428571428571|                 0.2|                7.8|\n",
            "|  My Flesh and Blood|       [Documentary]|November 28, 2003|      8.6|                0.0|0.8571428571428571| 0.14285714285714285|                7.8|\n",
            "|Raya and the Last...|[Action, Adventur...|    March 5, 2021|      7.0| 0.1657142857142857|0.6828571428571428|  0.3269230769230769|                7.5|\n",
            "|Raya and the Last...|[Action, Adventur...|    March 5, 2021|      7.0| 0.1657142857142857|0.6828571428571428|                 0.0|                7.5|\n",
            "|Raya and the Last...|[Action, Adventur...|    March 5, 2021|      7.0| 0.1657142857142857|0.6828571428571428|  0.4329268292682927|                7.5|\n",
            "|Raya and the Last...|[Action, Adventur...|    March 5, 2021|      7.0| 0.1657142857142857|0.6828571428571428|                0.25|                7.5|\n",
            "|Raya and the Last...|[Action, Adventur...|    March 5, 2021|      7.0| 0.1657142857142857|0.6828571428571428| 0.04411764705882353|                7.5|\n",
            "|Raya and the Last...|[Action, Adventur...|    March 5, 2021|      7.0| 0.1657142857142857|0.6828571428571428| 0.15142857142857144|                7.5|\n",
            "|Raya and the Last...|[Action, Adventur...|    March 5, 2021|      7.0| 0.1657142857142857|0.6828571428571428|                 0.2|                7.5|\n",
            "|Raya and the Last...|[Action, Adventur...|    March 5, 2021|      7.0| 0.1657142857142857|0.6828571428571428|                 0.0|                7.5|\n",
            "|Raya and the Last...|[Action, Adventur...|    March 5, 2021|      7.0| 0.1657142857142857|0.6828571428571428| 0.08860759493670886|                7.5|\n",
            "|La Ciudad (The City)|             [Drama]| October 22, 1999|      6.9| 0.2857142857142857|0.5714285714285714| 0.10204081632653061|                7.6|\n",
            "|La Ciudad (The City)|             [Drama]| October 22, 1999|      6.9| 0.2857142857142857|0.5714285714285714| 0.12121212121212122|                7.6|\n",
            "|La Ciudad (The City)|             [Drama]| October 22, 1999|      6.9| 0.2857142857142857|0.5714285714285714| 0.14285714285714285|                7.6|\n",
            "+--------------------+--------------------+-----------------+---------+-------------------+------------------+--------------------+-------------------+\n",
            "only showing top 20 rows\n",
            "\n"
          ]
        },
        {
          "output_type": "execute_result",
          "data": {
            "text/plain": [
              "pyspark.sql.dataframe.DataFrame"
            ]
          },
          "metadata": {},
          "execution_count": 103
        }
      ]
    },
    {
      "cell_type": "code",
      "metadata": {
        "colab": {
          "base_uri": "https://localhost:8080/"
        },
        "id": "rMu13iN8FbA_",
        "outputId": "d9aa6188-74e6-489f-eeac-8ad15d4003fb"
      },
      "source": [
        "normaldf.show(2)\n",
        "type(normaldf)\n"
      ],
      "execution_count": 150,
      "outputs": [
        {
          "output_type": "stream",
          "name": "stdout",
          "text": [
            "+------------------+--------------------+-------------+---------+-------------------+------------------+--------+-------------------+\n",
            "|             title|              genres|         date|Userscore|              Mixed|          Positive|Negative|NormalizedMetaScore|\n",
            "+------------------+--------------------+-------------+---------+-------------------+------------------+--------+-------------------+\n",
            "|          Deep Red|[Mystery, Thrille...|June 11, 1976|      8.2|0.17391304347826086|0.8260869565217391|     0.0|                8.9|\n",
            "|Living in Oblivion|     [Drama, Comedy]|July 21, 1995|      7.0|                0.0|               0.8|     0.2|                8.1|\n",
            "+------------------+--------------------+-------------+---------+-------------------+------------------+--------+-------------------+\n",
            "only showing top 2 rows\n",
            "\n"
          ]
        },
        {
          "output_type": "execute_result",
          "data": {
            "text/plain": [
              "pyspark.sql.dataframe.DataFrame"
            ]
          },
          "metadata": {},
          "execution_count": 150
        }
      ]
    },
    {
      "cell_type": "code",
      "metadata": {
        "colab": {
          "base_uri": "https://localhost:8080/",
          "height": 341
        },
        "id": "zoseFkrXGI_5",
        "outputId": "40e45415-e4df-4c75-cdd8-142331b52d09"
      },
      "source": [
        "normaldf.write.json('normalized_data')\n"
      ],
      "execution_count": 153,
      "outputs": [
        {
          "output_type": "error",
          "ename": "AnalysisException",
          "evalue": "ignored",
          "traceback": [
            "\u001b[0;31m---------------------------------------------------------------------------\u001b[0m",
            "\u001b[0;31mAnalysisException\u001b[0m                         Traceback (most recent call last)",
            "\u001b[0;32m<ipython-input-153-17296e7c6857>\u001b[0m in \u001b[0;36m<module>\u001b[0;34m()\u001b[0m\n\u001b[1;32m      1\u001b[0m \u001b[0;31m#normaldf.write.json('normalized_data')\u001b[0m\u001b[0;34m\u001b[0m\u001b[0;34m\u001b[0m\u001b[0;34m\u001b[0m\u001b[0m\n\u001b[0;32m----> 2\u001b[0;31m \u001b[0mnormaldf\u001b[0m\u001b[0;34m.\u001b[0m\u001b[0mwrite\u001b[0m\u001b[0;34m.\u001b[0m\u001b[0mcsv\u001b[0m\u001b[0;34m(\u001b[0m\u001b[0;34m'normalzied_csv_data'\u001b[0m\u001b[0;34m)\u001b[0m\u001b[0;34m\u001b[0m\u001b[0;34m\u001b[0m\u001b[0m\n\u001b[0m",
            "\u001b[0;32m/usr/local/lib/python3.7/dist-packages/pyspark/sql/readwriter.py\u001b[0m in \u001b[0;36mcsv\u001b[0;34m(self, path, mode, compression, sep, quote, escape, header, nullValue, escapeQuotes, quoteAll, dateFormat, timestampFormat, ignoreLeadingWhiteSpace, ignoreTrailingWhiteSpace, charToEscapeQuoteEscaping, encoding, emptyValue, lineSep)\u001b[0m\n\u001b[1;32m    953\u001b[0m                        \u001b[0mcharToEscapeQuoteEscaping\u001b[0m\u001b[0;34m=\u001b[0m\u001b[0mcharToEscapeQuoteEscaping\u001b[0m\u001b[0;34m,\u001b[0m\u001b[0;34m\u001b[0m\u001b[0;34m\u001b[0m\u001b[0m\n\u001b[1;32m    954\u001b[0m                        encoding=encoding, emptyValue=emptyValue, lineSep=lineSep)\n\u001b[0;32m--> 955\u001b[0;31m         \u001b[0mself\u001b[0m\u001b[0;34m.\u001b[0m\u001b[0m_jwrite\u001b[0m\u001b[0;34m.\u001b[0m\u001b[0mcsv\u001b[0m\u001b[0;34m(\u001b[0m\u001b[0mpath\u001b[0m\u001b[0;34m)\u001b[0m\u001b[0;34m\u001b[0m\u001b[0;34m\u001b[0m\u001b[0m\n\u001b[0m\u001b[1;32m    956\u001b[0m \u001b[0;34m\u001b[0m\u001b[0m\n\u001b[1;32m    957\u001b[0m     \u001b[0;32mdef\u001b[0m \u001b[0morc\u001b[0m\u001b[0;34m(\u001b[0m\u001b[0mself\u001b[0m\u001b[0;34m,\u001b[0m \u001b[0mpath\u001b[0m\u001b[0;34m,\u001b[0m \u001b[0mmode\u001b[0m\u001b[0;34m=\u001b[0m\u001b[0;32mNone\u001b[0m\u001b[0;34m,\u001b[0m \u001b[0mpartitionBy\u001b[0m\u001b[0;34m=\u001b[0m\u001b[0;32mNone\u001b[0m\u001b[0;34m,\u001b[0m \u001b[0mcompression\u001b[0m\u001b[0;34m=\u001b[0m\u001b[0;32mNone\u001b[0m\u001b[0;34m)\u001b[0m\u001b[0;34m:\u001b[0m\u001b[0;34m\u001b[0m\u001b[0;34m\u001b[0m\u001b[0m\n",
            "\u001b[0;32m/usr/local/lib/python3.7/dist-packages/py4j/java_gateway.py\u001b[0m in \u001b[0;36m__call__\u001b[0;34m(self, *args)\u001b[0m\n\u001b[1;32m   1308\u001b[0m         \u001b[0manswer\u001b[0m \u001b[0;34m=\u001b[0m \u001b[0mself\u001b[0m\u001b[0;34m.\u001b[0m\u001b[0mgateway_client\u001b[0m\u001b[0;34m.\u001b[0m\u001b[0msend_command\u001b[0m\u001b[0;34m(\u001b[0m\u001b[0mcommand\u001b[0m\u001b[0;34m)\u001b[0m\u001b[0;34m\u001b[0m\u001b[0;34m\u001b[0m\u001b[0m\n\u001b[1;32m   1309\u001b[0m         return_value = get_return_value(\n\u001b[0;32m-> 1310\u001b[0;31m             answer, self.gateway_client, self.target_id, self.name)\n\u001b[0m\u001b[1;32m   1311\u001b[0m \u001b[0;34m\u001b[0m\u001b[0m\n\u001b[1;32m   1312\u001b[0m         \u001b[0;32mfor\u001b[0m \u001b[0mtemp_arg\u001b[0m \u001b[0;32min\u001b[0m \u001b[0mtemp_args\u001b[0m\u001b[0;34m:\u001b[0m\u001b[0;34m\u001b[0m\u001b[0;34m\u001b[0m\u001b[0m\n",
            "\u001b[0;32m/usr/local/lib/python3.7/dist-packages/pyspark/sql/utils.py\u001b[0m in \u001b[0;36mdeco\u001b[0;34m(*a, **kw)\u001b[0m\n\u001b[1;32m    115\u001b[0m                 \u001b[0;31m# Hide where the exception came from that shows a non-Pythonic\u001b[0m\u001b[0;34m\u001b[0m\u001b[0;34m\u001b[0m\u001b[0;34m\u001b[0m\u001b[0m\n\u001b[1;32m    116\u001b[0m                 \u001b[0;31m# JVM exception message.\u001b[0m\u001b[0;34m\u001b[0m\u001b[0;34m\u001b[0m\u001b[0;34m\u001b[0m\u001b[0m\n\u001b[0;32m--> 117\u001b[0;31m                 \u001b[0;32mraise\u001b[0m \u001b[0mconverted\u001b[0m \u001b[0;32mfrom\u001b[0m \u001b[0;32mNone\u001b[0m\u001b[0;34m\u001b[0m\u001b[0;34m\u001b[0m\u001b[0m\n\u001b[0m\u001b[1;32m    118\u001b[0m             \u001b[0;32melse\u001b[0m\u001b[0;34m:\u001b[0m\u001b[0;34m\u001b[0m\u001b[0;34m\u001b[0m\u001b[0m\n\u001b[1;32m    119\u001b[0m                 \u001b[0;32mraise\u001b[0m\u001b[0;34m\u001b[0m\u001b[0;34m\u001b[0m\u001b[0m\n",
            "\u001b[0;31mAnalysisException\u001b[0m: CSV data source does not support array<string> data type."
          ]
        }
      ]
    },
    {
      "cell_type": "code",
      "metadata": {
        "colab": {
          "base_uri": "https://localhost:8080/",
          "height": 695
        },
        "id": "1I10wncR404r",
        "outputId": "a5fb8583-8266-4ad1-bb20-80bf1f8a282d"
      },
      "source": [
        "\n",
        "#dfnor1 = normaldf.select('*',round('Positive',2)).show()\n",
        "#normaldf.select('*',round('Mixed',2))\n",
        "#normaldf.select('*',round('Negative',2))\n",
        "\n"
      ],
      "execution_count": 145,
      "outputs": [
        {
          "output_type": "stream",
          "name": "stdout",
          "text": [
            "+--------------------+--------------------+-----------------+---------+-------------------+------------------+--------------------+-------------------+------------------+\n",
            "|               title|              genres|             date|Userscore|              Mixed|          Positive|            Negative|NormalizedMetaScore|round(Positive, 2)|\n",
            "+--------------------+--------------------+-----------------+---------+-------------------+------------------+--------------------+-------------------+------------------+\n",
            "|            Deep Red|[Mystery, Thrille...|    June 11, 1976|      8.2|0.17391304347826086|0.8260869565217391|                 0.0|                8.9|              0.83|\n",
            "|  Living in Oblivion|     [Drama, Comedy]|    July 21, 1995|      7.0|                0.0|               0.8|                 0.2|                8.1|               0.8|\n",
            "|          Starred Up|             [Drama]|  August 27, 2014|      8.1|0.07368421052631578|0.9052631578947369| 0.17525773195876287|                8.1|              0.91|\n",
            "|          Starred Up|             [Drama]|  August 27, 2014|      8.1|0.07368421052631578|0.9052631578947369|0.021052631578947368|                8.1|              0.91|\n",
            "|The Devil Came on...|       [Documentary]|    July 25, 2007|      7.9|                0.0|             0.875| 0.09090909090909091|                7.8|              0.88|\n",
            "|The Devil Came on...|       [Documentary]|    July 25, 2007|      7.9|                0.0|             0.875|               0.125|                7.8|              0.88|\n",
            "|  My Flesh and Blood|       [Documentary]|November 28, 2003|      8.6|                0.0|0.8571428571428571|                 0.2|                7.8|              0.86|\n",
            "|  My Flesh and Blood|       [Documentary]|November 28, 2003|      8.6|                0.0|0.8571428571428571| 0.14285714285714285|                7.8|              0.86|\n",
            "|Raya and the Last...|[Action, Adventur...|    March 5, 2021|      7.0| 0.1657142857142857|0.6828571428571428|  0.3269230769230769|                7.5|              0.68|\n",
            "|Raya and the Last...|[Action, Adventur...|    March 5, 2021|      7.0| 0.1657142857142857|0.6828571428571428|                 0.0|                7.5|              0.68|\n",
            "|Raya and the Last...|[Action, Adventur...|    March 5, 2021|      7.0| 0.1657142857142857|0.6828571428571428|  0.4329268292682927|                7.5|              0.68|\n",
            "|Raya and the Last...|[Action, Adventur...|    March 5, 2021|      7.0| 0.1657142857142857|0.6828571428571428|                0.25|                7.5|              0.68|\n",
            "|Raya and the Last...|[Action, Adventur...|    March 5, 2021|      7.0| 0.1657142857142857|0.6828571428571428| 0.04411764705882353|                7.5|              0.68|\n",
            "|Raya and the Last...|[Action, Adventur...|    March 5, 2021|      7.0| 0.1657142857142857|0.6828571428571428| 0.15142857142857144|                7.5|              0.68|\n",
            "|Raya and the Last...|[Action, Adventur...|    March 5, 2021|      7.0| 0.1657142857142857|0.6828571428571428|                 0.2|                7.5|              0.68|\n",
            "|Raya and the Last...|[Action, Adventur...|    March 5, 2021|      7.0| 0.1657142857142857|0.6828571428571428|                 0.0|                7.5|              0.68|\n",
            "|Raya and the Last...|[Action, Adventur...|    March 5, 2021|      7.0| 0.1657142857142857|0.6828571428571428| 0.08860759493670886|                7.5|              0.68|\n",
            "|La Ciudad (The City)|             [Drama]| October 22, 1999|      6.9| 0.2857142857142857|0.5714285714285714| 0.10204081632653061|                7.6|              0.57|\n",
            "|La Ciudad (The City)|             [Drama]| October 22, 1999|      6.9| 0.2857142857142857|0.5714285714285714| 0.12121212121212122|                7.6|              0.57|\n",
            "|La Ciudad (The City)|             [Drama]| October 22, 1999|      6.9| 0.2857142857142857|0.5714285714285714| 0.14285714285714285|                7.6|              0.57|\n",
            "+--------------------+--------------------+-----------------+---------+-------------------+------------------+--------------------+-------------------+------------------+\n",
            "only showing top 20 rows\n",
            "\n"
          ]
        },
        {
          "output_type": "error",
          "ename": "AttributeError",
          "evalue": "ignored",
          "traceback": [
            "\u001b[0;31m---------------------------------------------------------------------------\u001b[0m",
            "\u001b[0;31mAttributeError\u001b[0m                            Traceback (most recent call last)",
            "\u001b[0;32m<ipython-input-145-9ca2352c27eb>\u001b[0m in \u001b[0;36m<module>\u001b[0;34m()\u001b[0m\n\u001b[1;32m      3\u001b[0m \u001b[0;31m#normaldf.select('*',round('Mixed',2))\u001b[0m\u001b[0;34m\u001b[0m\u001b[0;34m\u001b[0m\u001b[0;34m\u001b[0m\u001b[0m\n\u001b[1;32m      4\u001b[0m \u001b[0;31m#normaldf.select('*',round('Negative',2))\u001b[0m\u001b[0;34m\u001b[0m\u001b[0;34m\u001b[0m\u001b[0;34m\u001b[0m\u001b[0m\n\u001b[0;32m----> 5\u001b[0;31m \u001b[0mdfnor2\u001b[0m\u001b[0;34m=\u001b[0m\u001b[0mdfnor1\u001b[0m\u001b[0;34m.\u001b[0m\u001b[0mdrop\u001b[0m\u001b[0;34m(\u001b[0m\u001b[0;34m'Positive'\u001b[0m\u001b[0;34m)\u001b[0m\u001b[0;34m\u001b[0m\u001b[0;34m\u001b[0m\u001b[0m\n\u001b[0m\u001b[1;32m      6\u001b[0m \u001b[0mdfnor2\u001b[0m\u001b[0;34m.\u001b[0m\u001b[0mshow\u001b[0m\u001b[0;34m(\u001b[0m\u001b[0;34m)\u001b[0m\u001b[0;34m\u001b[0m\u001b[0;34m\u001b[0m\u001b[0m\n",
            "\u001b[0;31mAttributeError\u001b[0m: 'NoneType' object has no attribute 'drop'"
          ]
        }
      ]
    }
  ]
}