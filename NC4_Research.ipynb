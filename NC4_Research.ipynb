{
  "nbformat": 4,
  "nbformat_minor": 0,
  "metadata": {
    "colab": {
      "name": "NC4 Research",
      "provenance": [],
      "collapsed_sections": [],
      "include_colab_link": true
    },
    "kernelspec": {
      "name": "python3",
      "display_name": "Python 3"
    },
    "language_info": {
      "name": "python"
    }
  },
  "cells": [
    {
      "cell_type": "markdown",
      "metadata": {
        "id": "view-in-github",
        "colab_type": "text"
      },
      "source": [
        "<a href=\"https://colab.research.google.com/github/hongan-z/_Mechine_Learning_ML/blob/main/NC4_Research.ipynb\" target=\"_parent\"><img src=\"https://colab.research.google.com/assets/colab-badge.svg\" alt=\"Open In Colab\"/></a>"
      ]
    },
    {
      "cell_type": "code",
      "metadata": {
        "colab": {
          "base_uri": "https://localhost:8080/",
          "height": 199
        },
        "id": "XoBLO9NM0Y90",
        "outputId": "7c427e71-7f79-4857-8276-fdd11589475d"
      },
      "source": [
        "import numpy as np\n",
        "import pandas as pd\n",
        "import matplotlib.pyplot as plt\n",
        "import seaborn as sb\n",
        "import random as rand\n",
        "from sklearn.model_selection import train_test_split \n",
        "from keras.datasets import mnist\n",
        "\n",
        "(x_train, y_train), (x_test, y_test) = mnist.load_data()\n",
        "images = 10;\n",
        "plt.figure(figsize=(images*2,2))\n",
        "plt.gray()\n",
        "for i in range(images):\n",
        "  plt.subplot(1, images, i+1)\n",
        "  plt.imshow(x_train[i])\n",
        "plt.show()\n",
        "x_train = x_train/255;"
      ],
      "execution_count": null,
      "outputs": [
        {
          "output_type": "stream",
          "text": [
            "Downloading data from https://storage.googleapis.com/tensorflow/tf-keras-datasets/mnist.npz\n",
            "11493376/11490434 [==============================] - 0s 0us/step\n",
            "11501568/11490434 [==============================] - 0s 0us/step\n"
          ],
          "name": "stdout"
        },
        {
          "output_type": "display_data",
          "data": {
            "image/png": "[encoded data removed]",
            "text/plain": [
              "<Figure size 1440x144 with 10 Axes>"
            ]
          },
          "metadata": {
            "needs_background": "light"
          }
        }
      ]
    },
    {
      "cell_type": "code",
      "metadata": {
        "colab": {
          "base_uri": "https://localhost:8080/",
          "height": 279
        },
        "id": "2qSMzZllovxF",
        "outputId": "d0d8cd42-839b-4cea-902b-92a360c446a1"
      },
      "source": [
        "def SSL(M = 1, K = 5, alpha = 100, ratio = 50):\n",
        "  rand.seed(1)\n",
        "  #ratio = float(ratio/100)\n",
        "  #alpha = float(alpha/100)\n",
        "  nodes = 500;\n",
        "  X_images = x_train[:nodes]\n",
        "  X_labels = y_train[:nodes]\n",
        "\n",
        "  ratio = 0.2; #assuming 1% is labeled\n",
        "  labeled_amnt = int(np.floor(ratio*nodes)); #amount of nodes we want labeled\n",
        "\n",
        "  Y = np.zeros((nodes, 10)) #100 by 10 (one hot vector)\n",
        "\n",
        "  random_index = np.random.choice(nodes, labeled_amnt, replace=False)\n",
        "  \n",
        "  for indexes in range(labeled_amnt):\n",
        "    index = random_index[indexes]; \n",
        "    curr_label = X_labels[index]; \n",
        "    Y[index][curr_label] = 1; \n",
        "\n",
        "  g = 1.25; \n",
        "\n",
        "  W_matrix = np.zeros((nodes, nodes))\n",
        "  distances = np.zeros((nodes, nodes))\n",
        "  for i in range(nodes):\n",
        "    for j in range(nodes):\n",
        "      distances[i][j] = np.linalg.norm(X_images[i] - X_images[j]);\n",
        "      d1 = distances[i][j]\n",
        "      W_matrix[i][j] = np.exp(-g*d1**2)\n",
        "\n",
        "  for i in range(nodes):\n",
        "    for j in range(nodes):\n",
        "      if i == j:\n",
        "        W_matrix[i][j] = 0\n",
        "\n",
        "\n",
        "  max_iter = 20;\n",
        "  alpha = 0.8;\n",
        "  K = 5;\n",
        "\n",
        "  knn_graph = np.zeros((nodes, nodes))\n",
        "  for node in range(nodes):\n",
        "    nodes_closest = np.argsort(distances[node])\n",
        "    for closest in range(K):\n",
        "      index = nodes_closest[closest+1]\n",
        "      knn_graph[node][index] = W_matrix[node][index];\n",
        "      knn_graph[index][node] = W_matrix[node][index];\n",
        "\n",
        "  knn_degrees = np.zeros(nodes);\n",
        "  for i in range(nodes):\n",
        "    knn_degrees[i] = np.count_nonzero(knn_graph[i]);\n",
        "\n",
        "  Dmatrix = np.zeros((nodes, nodes))\n",
        "  for i in range(nodes):\n",
        "    Dmatrix[i][i] = np.sum(knn_graph[i])\n",
        "\n",
        "  Dinv = np.linalg.inv(Dmatrix)\n",
        "  S = Dinv@knn_graph\n",
        "\n",
        "  #random_index: indexes of the 100 labeled\n",
        "  #labeled_degrees: vector of the 100 labeled nodes \n",
        "  #knn_degrees: vector of ALL degrees\n",
        "  labeled_degrees = np.zeros(labeled_amnt)\n",
        "  for index in range(labeled_amnt):\n",
        "    #random_index: [0 5 10 15 20]\n",
        "    #random_index[0]: 0\n",
        "    labeled_index = random_index[index]\n",
        "    #labeled_degrees[0] = knn_degrees[0] <- 15\n",
        "    #labeled_degrees[1] = knn_degrees[5] <- 7\n",
        "    #labeled_degrees[2] = knn_degrees[10] <- 11\n",
        "    #labeled_degrees[3] = knn_degrees[15] <- 2\n",
        "    #labeled_degrees[4] = knn_degrees[20] <- 12\n",
        "    \n",
        "    #random_index:    [0  5 10 15 20]\n",
        "    #labeled_degrees: [15 7 11 2  12]\n",
        "\n",
        "    #lowdeg_index =              [3  1 2  4  0]\n",
        "    #random_index:               [15 5 10 20 0]\n",
        "    labeled_degrees[index] = knn_degrees[labeled_index]\n",
        "\n",
        "  #M = 30\n",
        "  lowdeg_index = np.argsort(labeled_degrees)[:M];\n",
        "  highdeg_index = np.argsort(-1*labeled_degrees)[:M];\n",
        "\n",
        "  lowflip_Y = np.copy(Y)\n",
        "  for i in range(len(lowdeg_index)):\n",
        "    labeled_index = random_index[lowdeg_index[i]]\n",
        "    lowflip_label = np.nonzero(lowflip_Y[random_index[lowdeg_index[i]]])[0][0]\n",
        "    actual_label = X_labels[labeled_index]\n",
        "\n",
        "    while lowflip_label == actual_label:\n",
        "      lowflip_Y[labeled_index][lowflip_label] = 0\n",
        "      random_label = rand.randint(0, 9)\n",
        "      lowflip_Y[labeled_index][random_label] = 1\n",
        "      lowflip_label = random_label\n",
        "\n",
        "  highflip_Y = np.copy(Y)\n",
        "  for i in range(len(highdeg_index)):\n",
        "    labeled_index = random_index[highdeg_index[i]]\n",
        "    highflip_label = np.nonzero(highflip_Y[random_index[highdeg_index[i]]])[0][0]\n",
        "    actual_label = X_labels[labeled_index]\n",
        "\n",
        "    while highflip_label == actual_label:\n",
        "      highflip_Y[labeled_index][highflip_label] = 0\n",
        "      random_label = rand.randint(0, 9)\n",
        "      highflip_Y[labeled_index][random_label] = 1\n",
        "      highflip_label = random_label\n",
        "\n",
        "  F = Y;\n",
        "  F2 = lowflip_Y\n",
        "  F3 = highflip_Y\n",
        "\n",
        "  for i in range(max_iter):\n",
        "    F = alpha * S @ F + (1 - alpha) * Y\n",
        "    F2 = alpha * S @ F2 + (1 - alpha) * lowflip_Y\n",
        "    F3 = alpha * S @ F3 + (1 - alpha) * highflip_Y\n",
        "\n",
        "  Y_final = np.zeros(nodes)\n",
        "  Y2_final = np.zeros(nodes)\n",
        "  Y3_final = np.zeros(nodes)\n",
        "  for i in range(nodes):\n",
        "    label = np.argmax(F[i])\n",
        "    Y_final[i] = label\n",
        "    label = np.argmax(F2[i])\n",
        "    Y2_final[i] = label\n",
        "    label = np.argmax(F3[i])\n",
        "    Y3_final[i] = label\n",
        "\n",
        "  correct = 0\n",
        "  for val in range(nodes):\n",
        "    if X_labels[val] == Y_final[val]:\n",
        "      correct = correct + 1\n",
        "  noflip = correct*100/nodes\n",
        "\n",
        "\n",
        "  correct = 0\n",
        "  for val in range(nodes):\n",
        "    if X_labels[val] == Y2_final[val]:\n",
        "      correct = correct + 1\n",
        "\n",
        "  lowflip = correct*100/nodes\n",
        "\n",
        "\n",
        "  correct = 0\n",
        "  for val in range(nodes):\n",
        "    if X_labels[val] == Y3_final[val]:\n",
        "      correct = correct + 1\n",
        "\n",
        "  highflip = correct*100/nodes\n",
        "\n",
        "  return noflip, lowflip, highflip\n",
        "\n",
        "Mvalues = [5, 10, 15, 20, 30, 40, 50]\n",
        "\n",
        "NoFlip_Accuracy = np.zeros(len(Mvalues))\n",
        "LowFlip_Accuracy = np.zeros(len(Mvalues))\n",
        "HighFlip_Accuracy = np.zeros(len(Mvalues))\n",
        "for M in range(len(Mvalues)):\n",
        "  [noflip, lowest, highest] = SSL(M = Mvalues[M])\n",
        "  NoFlip_Accuracy[M] = noflip\n",
        "  LowFlip_Accuracy[M] = lowest\n",
        "  HighFlip_Accuracy[M] = highest\n",
        "plt.plot(Mvalues, NoFlip_Accuracy)\n",
        "plt.plot(Mvalues, LowFlip_Accuracy)\n",
        "plt.plot(Mvalues, HighFlip_Accuracy)\n",
        "plt.legend({'No Flipping','Low Flipping','High Flipping'})\n",
        "plt.xlabel(\"M Values\")\n",
        "plt.ylabel(\"Accuracy\")\n",
        "plt.show() \n",
        "\n"
      ],
      "execution_count": 11,
      "outputs": [
        {
          "output_type": "display_data",
          "data": {
            "image/png": "[encoded data removed]",
            "text/plain": [
              "<Figure size 432x288 with 1 Axes>"
            ]
          },
          "metadata": {
            "needs_background": "light"
          }
        }
      ]
    },
    {
      "cell_type": "code",
      "metadata": {
        "id": "uGp80YNShqBP"
      },
      "source": [
        "\n"
      ],
      "execution_count": null,
      "outputs": []
    }
  ]
}